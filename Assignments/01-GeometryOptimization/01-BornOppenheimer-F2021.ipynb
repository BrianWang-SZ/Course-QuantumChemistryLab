{
 "cells": [
  {
   "cell_type": "markdown",
   "metadata": {
    "nbgrader": {
     "grade": false,
     "grade_id": "cell-eeb5a6a9b59ed8c9",
     "locked": true,
     "schema_version": 3,
     "solution": false,
     "task": false
    }
   },
   "source": [
    "# CHEM-335LW —  Computational Assignment 01 | The Born--Oppenheimer approximation\n",
    "\n",
    "See Canvas for the due date."
   ]
  },
  {
   "cell_type": "markdown",
   "metadata": {},
   "source": [
    "---\n",
    "# Problem 1: Stability of the isomers of difluoroethylene\n",
    "\n",
    "Shown below are three isomers of difluoroethylene.\n",
    "\n",
    "<img src=\"./difluoroethylene.png\" alt=\"nh3 molecule\" width=\"400\"/>\n",
    "\n",
    "The goal of this problem is to use computational chemistry to determine the relative stability of these three species.\n",
    "\n",
    "In this problem we will use density functional theory (DFT) together with a split-valence basis set (def2-SVP). The details behind the method we use are not relevant for this exercise and will be discussed in future lectures.\n",
    "To perform your computations with this level of theory/basis set use the following command:\n",
    "```\n",
    "psi4.optimize('b3lyp/def2-SVP')\n",
    "```\n",
    "\n",
    "**Note that this computational procedure is different from the one we used in class for H$_2$**!"
   ]
  },
  {
   "cell_type": "markdown",
   "metadata": {},
   "source": [
    "## a) Formulating an hypothesis\n",
    "\n",
    "Predict the relative stability (which isomer is most stable, which one the least, why?) of these three isomers using any criterion you think may be important (electrostatics, steric effects, delocalization, aromaticity, etc.). Explain how you derived your ordering.\n",
    "\n",
    "**It's important that you work on this part before you do the computations! Otherwise there would be not point in doing this part of the exercise.**  You don't need to be right, but you do need to make a sound argument."
   ]
  },
  {
   "cell_type": "markdown",
   "metadata": {},
   "source": [
    "Type your answer here (*you need to double click this cell to edit it*)"
   ]
  },
  {
   "cell_type": "markdown",
   "metadata": {},
   "source": [
    "## b) Create initial geometries for the molecules\n",
    "\n",
    "In this step you will make initial structures for your molecules. It is important that you check the structure of a molecule before you run a computation. If you choose a structure that is incorrect psi4 may fail to optimize the geometry!\n",
    "\n",
    "Using Avogadro build starting geometries for the three isomers. Make figures of all the molecules and attach them to this document. Here is how you can do so:\n",
    "1. Take screen snapshots from Avogadro of your molecules, **Make sure that the molecule is oriented in such a way that one can easily see its structure**.\n",
    "2. Save the snapshots in png or jpg format in the same folder that contains the jupyter notebook (in your case you will need to upload them to chemcompute)\n",
    "3. Edit the cell below and modifies the HTML code like `<img src=\"./image.png\"  width=\"400\"/>` where `image.png` is the name of your image file."
   ]
  },
  {
   "cell_type": "markdown",
   "metadata": {},
   "source": [
    "### Trans geometry\n",
    "\n",
    "<img src=\"./image1.png\"  width=\"300\"/>\n",
    "\n",
    "### Cis geometry\n",
    "\n",
    "<img src=\"./image2.png\"  width=\"300\"/>\n",
    "\n",
    "### Gem geometry\n",
    "\n",
    "<img src=\"./image3.png\"  width=\"300\"/>"
   ]
  },
  {
   "cell_type": "markdown",
   "metadata": {
    "slideshow": {
     "slide_type": "slide"
    }
   },
   "source": [
    "## c) Optimize the geometry\n",
    "Optimize the geometry of the three isomers of difluoroethylene. Build your structures using Avogadro (version 1). Note that these computations might take a couple of minutes each to run.\n",
    "\n",
    "**Trans isomer**"
   ]
  },
  {
   "cell_type": "code",
   "execution_count": null,
   "metadata": {},
   "outputs": [],
   "source": [
    "# set the output file for this molecule\n",
    "psi4.core.set_output_file('trans.txt')\n",
    "\n",
    "psi4.geometry(\"\"\"\n",
    "your Cartesian geometry goes here\n",
    "\"\"\")\n",
    "\n",
    "# optimize the geometry and save the equilibrium geometry to the variable 'energy_trans'\n",
    "energy_trans = psi4.optimize('b3lyp/def2-SVP')"
   ]
  },
  {
   "cell_type": "markdown",
   "metadata": {},
   "source": [
    "**Cis isomer**"
   ]
  },
  {
   "cell_type": "code",
   "execution_count": null,
   "metadata": {},
   "outputs": [],
   "source": [
    "# same as above, but remember to save the energy to a different variable\n",
    "\n",
    "# optimize the geometry and save it to the variable 'energy_cis'\n",
    "energy_cis = psi4.optimize('b3lyp/def2-SVP')"
   ]
  },
  {
   "cell_type": "markdown",
   "metadata": {},
   "source": [
    "**Gem isomer**"
   ]
  },
  {
   "cell_type": "code",
   "execution_count": null,
   "metadata": {},
   "outputs": [],
   "source": [
    "# fill in"
   ]
  },
  {
   "cell_type": "markdown",
   "metadata": {},
   "source": [
    "## c) Organize your data and compute the relative ordering of the isomers\n",
    "Determine which isomer is the most stable (has the lowest energy) and then for each isomer compute the relative energy, defined as\n",
    "$$\n",
    "\\Delta E_X = E_X - E_\\text{min}\n",
    "$$\n",
    "where $X$ is the energy of one of the isomers (trans, cis, gem) and $E_\\text{min}$ is the energy of the most stable isomer.\n",
    "\n",
    "To report these results, edit the table below and fill it with all entries.\n",
    "**Report energies in Hartree with 6 decimal places and energies in kcal/mol with 2 decimal places**. See Chapter 1 of the notes to find out how to convert Hartrees to kcal/mol."
   ]
  },
  {
   "cell_type": "markdown",
   "metadata": {},
   "source": [
    "| Isomer | Equilibrium Energy (Hartree) | Relative Energy (Hartree) | Relative Energy (kcal/mol) |\n",
    "| --- | --- | --- | --- |\n",
    "| Trans |  |  |  |\n",
    "| Cis   |  |  |  |\n",
    "| Gem   |  |  |  |"
   ]
  },
  {
   "cell_type": "markdown",
   "metadata": {},
   "source": [
    "# Questions\n",
    "Answer the following questions by editing each text cell"
   ]
  },
  {
   "cell_type": "markdown",
   "metadata": {},
   "source": [
    "1. Write an equation that defines the Born-Oppenheimer approximation and explain the meaning of the symbols that enter into it\n",
    "\n",
    "Equation:\n",
    "\n",
    "$$\n",
    "\\text{Insert your equation here using LaTeX format}\n",
    "$$\n",
    "\n",
    "Meaning of symbols:"
   ]
  },
  {
   "cell_type": "markdown",
   "metadata": {},
   "source": [
    "2. Using your own words, explain the **assumption(s)** made in the Born-Oppenheimer approximation and **its significance**.\n",
    "\n",
    "Assumptions:\n",
    "\n",
    "Significance:"
   ]
  },
  {
   "cell_type": "markdown",
   "metadata": {},
   "source": [
    "3. What mathematical condition defines a stationary point on the potential energy surface (you can use words to answer this questions)?\n",
    "\n",
    "Answer:"
   ]
  }
 ],
 "metadata": {
  "kernelspec": {
   "display_name": "Python 3",
   "language": "python",
   "name": "python3"
  },
  "language_info": {
   "codemirror_mode": {
    "name": "ipython",
    "version": 3
   },
   "file_extension": ".py",
   "mimetype": "text/x-python",
   "name": "python",
   "nbconvert_exporter": "python",
   "pygments_lexer": "ipython3",
   "version": "3.9.4"
  }
 },
 "nbformat": 4,
 "nbformat_minor": 4
}
