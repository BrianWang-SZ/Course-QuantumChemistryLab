{
 "cells": [
  {
   "cell_type": "markdown",
   "metadata": {},
   "source": [
    "To run a DFT computation we just need to specify the functional to use and the basis set.\n",
    "\n",
    "The following input runs a computation on H$_2$ using the B3LYP functional and the def2-SVP basis set"
   ]
  },
  {
   "cell_type": "code",
   "execution_count": 3,
   "metadata": {},
   "outputs": [
    {
     "data": {
      "text/plain": [
       "-1.1737517015176304"
      ]
     },
     "execution_count": 3,
     "metadata": {},
     "output_type": "execute_result"
    }
   ],
   "source": [
    "mol = psi4.geometry(\"\"\"\n",
    "H\n",
    "H 1 0.75\n",
    "\"\"\")\n",
    "\n",
    "psi4.set_options({'BASIS' : 'def2-SVP'})\n",
    "psi4.energy('B3LYP')"
   ]
  },
  {
   "cell_type": "markdown",
   "metadata": {},
   "source": [
    "The input below **is equivalent**"
   ]
  },
  {
   "cell_type": "code",
   "execution_count": 4,
   "metadata": {},
   "outputs": [
    {
     "data": {
      "text/plain": [
       "-1.17375170151763"
      ]
     },
     "execution_count": 4,
     "metadata": {},
     "output_type": "execute_result"
    }
   ],
   "source": [
    "mol = psi4.geometry(\"\"\"\n",
    "H\n",
    "H 1 0.75\n",
    "\"\"\")\n",
    "\n",
    "psi4.energy('scf/def2-SVP',dft_functional='b3lyp')"
   ]
  },
  {
   "cell_type": "markdown",
   "metadata": {},
   "source": [
    "Psi4 can run DFT computations in two ways:\n",
    "\n",
    "1. **Restricted Kohn–Sham** (RKS). This is the default assumed by psi4. **RKS only works for closed-shell singlet molecules** but it is the most efficient implementation.\n",
    "In RKS the density of alpha and beta electrons are the same\n",
    "$$\n",
    "\\rho_\\alpha = \\rho_\\beta\n",
    "$$\n",
    "\n",
    "2. **Unrestricted Kohn–Sham** (UKS). UKS can be used for open-shell molecules (e.g. with an odd number of electrons). In UKS the density of alpha and beta electrons are different\n",
    "$$\n",
    "\\rho_\\alpha \\neq \\rho_\\beta\n",
    "$$\n",
    "To run an unrestricted Kohn–Sham computation add the option\n",
    "```python\n",
    "psi4.set_options({'REFERENCE' : 'UKS'})\n",
    "```\n",
    "\n",
    "The following runs a DFT computation on H$_2^+$:"
   ]
  },
  {
   "cell_type": "code",
   "execution_count": 7,
   "metadata": {},
   "outputs": [
    {
     "data": {
      "text/plain": [
       "-0.5694795786346649"
      ]
     },
     "execution_count": 7,
     "metadata": {},
     "output_type": "execute_result"
    }
   ],
   "source": [
    "mol = psi4.geometry(\"\"\"\n",
    "1 2\n",
    "H\n",
    "H 1 0.75\n",
    "\"\"\")\n",
    "\n",
    "psi4.set_options({'REFERENCE' : 'UKS'})\n",
    "psi4.energy('B3LYP/def2-SVP')"
   ]
  },
  {
   "cell_type": "markdown",
   "metadata": {},
   "source": [
    "---\n",
    "\n",
    "## Exploring DFT functionals\n",
    "\n",
    "For a list of DFT functional supported by psi4 check [this page](\n",
    "https://psicode.org/psi4manual/master/dft_byfunctional.html)."
   ]
  },
  {
   "cell_type": "code",
   "execution_count": 8,
   "metadata": {},
   "outputs": [],
   "source": [
    "functionals = ['B1LYP', 'B1PW91', 'B1WC', 'B2GPPLYP', 'B2GPPLYP-NL',\n",
    "               'B2PLYP', 'B2PLYP-NL', 'B3LYP', 'B3LYP-NL', 'B3LYP5',\n",
    "               'B3LYPS', 'B3P86', 'B3PW91', 'B3PW91-NL', 'B5050LYP',\n",
    "               'B86B95', 'B86BPBE', 'B88B95', 'B97-0', 'B97-1',\n",
    "               'B97-1P', 'B97-2', 'B97-3', 'B97-GGA1', 'B97-K',\n",
    "               'B97M-V', 'BB1K', 'BHANDH', 'BHANDHLYP', 'BLYP',\n",
    "               'BLYP-NL', 'BMK', 'BOP', 'BP86', 'BP86-NL',\n",
    "               'CAM-B3LYP', 'CAP0', 'DSD-BLYP', 'DSD-BLYP-NL',\n",
    "               'DSD-PBEB95', 'DSD-PBEB95-NL', 'DSD-PBEP86',\n",
    "               'DSD-PBEP86-NL', 'DSD-PBEPBE', 'DSD-PBEPBE-NL',\n",
    "               'EDF1', 'EDF2', 'FT97', 'GAM', 'HCTH120', 'HCTH147',\n",
    "               'HCTH407', 'HCTH407P', 'HCTH93', 'HCTHP14', 'HCTHP76', 'HF']"
   ]
  },
  {
   "cell_type": "markdown",
   "metadata": {},
   "source": [
    "We can now use a loop to run all of these computations for us"
   ]
  },
  {
   "cell_type": "code",
   "execution_count": 9,
   "metadata": {},
   "outputs": [
    {
     "name": "stdout",
     "output_type": "stream",
     "text": [
      "B1LYP\n",
      "B1PW91\n",
      "B1WC\n",
      "B2GPPLYP\n",
      "B2GPPLYP-NL\n",
      "B2PLYP\n",
      "B2PLYP-NL\n",
      "B3LYP\n",
      "B3LYP-NL\n",
      "B3LYP5\n",
      "B3LYPS\n",
      "B3P86\n",
      "B3PW91\n",
      "B3PW91-NL\n",
      "B5050LYP\n",
      "B86B95\n",
      "B86BPBE\n",
      "B88B95\n",
      "B97-0\n",
      "B97-1\n",
      "B97-1P\n",
      "B97-2\n",
      "B97-3\n",
      "B97-GGA1\n",
      "B97-K\n",
      "B97M-V\n",
      "BB1K\n",
      "BHANDH\n",
      "BHANDHLYP\n",
      "BLYP\n",
      "BLYP-NL\n",
      "BMK\n",
      "BOP\n",
      "BP86\n",
      "BP86-NL\n",
      "CAM-B3LYP\n",
      "CAP0\n",
      "DSD-BLYP\n",
      "DSD-BLYP-NL\n",
      "DSD-PBEB95\n",
      "DSD-PBEB95-NL\n",
      "DSD-PBEP86\n",
      "DSD-PBEP86-NL\n",
      "DSD-PBEPBE\n",
      "DSD-PBEPBE-NL\n",
      "EDF1\n",
      "EDF2\n",
      "FT97\n",
      "GAM\n",
      "HCTH120\n",
      "HCTH147\n",
      "HCTH407\n",
      "HCTH407P\n",
      "HCTH93\n",
      "HCTHP14\n",
      "HCTHP76\n",
      "HF\n"
     ]
    }
   ],
   "source": [
    "# psi4.set_options({'SCF_TYPE' : 'PK'})\n",
    "psi4.set_options({'REFERENCE' : 'UKS'})\n",
    "\n",
    "data = {}\n",
    "for f in functionals:\n",
    "    print(f)\n",
    "    mol = psi4.geometry(\"0 2\\nH\")\n",
    "    e = psi4.energy(f'{f}/cc-pVDZ')\n",
    "    data[f] = e    "
   ]
  },
  {
   "cell_type": "markdown",
   "metadata": {},
   "source": [
    "Let's make the histrogram of the energy"
   ]
  },
  {
   "cell_type": "code",
   "execution_count": 11,
   "metadata": {},
   "outputs": [
    {
     "data": {
      "image/png": "[encoded data removed]",
      "text/plain": [
       "<Figure size 432x288 with 1 Axes>"
      ]
     },
     "metadata": {
      "needs_background": "light"
     },
     "output_type": "display_data"
    }
   ],
   "source": [
    "import matplotlib.pyplot as plt\n",
    "\n",
    "x = list(data.values())\n",
    "# the histogram of the data\n",
    "n, bins, patches = plt.hist(x,50,alpha=0.75)\n",
    "\n",
    "\n",
    "plt.xlabel('Energy')\n",
    "plt.ylabel('Count')\n",
    "plt.title('Energy of a hydrogen atom as a function of the functional')\n",
    "plt.grid(True)\n",
    "plt.show()"
   ]
  },
  {
   "cell_type": "markdown",
   "metadata": {},
   "source": [
    "## Dispersion corrections"
   ]
  },
  {
   "cell_type": "code",
   "execution_count": null,
   "metadata": {},
   "outputs": [],
   "source": [
    "def make_geom(r):\n",
    "    mol = psi4.geometry(f\"\"\"\n",
    "      0 1\n",
    "      He\n",
    "      He 1 {r:f}\n",
    "    \"\"\")\n",
    "    return mol\n",
    "\n",
    "mol = make_geom(2.0)\n",
    "e = psi4.energy('b3lyp/def2-SVP')\n",
    "e_disp = psi4.energy('b3lyp-d/def2-SVP')\n",
    "\n",
    "print(e - e_disp)"
   ]
  },
  {
   "cell_type": "markdown",
   "metadata": {},
   "source": [
    "Long-range corrected density functionals"
   ]
  },
  {
   "cell_type": "code",
   "execution_count": null,
   "metadata": {},
   "outputs": [],
   "source": [
    "mol = psi4.geometry(\"\"\"\n",
    "  0 3\n",
    "  C\n",
    "  H 1 R\n",
    "  H 1 R 2 A\n",
    "\n",
    "  R = 1.075\n",
    "  A = 133.93\n",
    "\"\"\")\n",
    "\n",
    "psi4.set_options({'REFERENCE' : 'UKS'})\n",
    "psi4.energy('wb97x/def2-SVP')"
   ]
  },
  {
   "cell_type": "markdown",
   "metadata": {},
   "source": [
    "## Grids\n",
    "Integration grids are necessary to compute some the integrals needed to do DFT computations.\n",
    "Psi4 uses concentric spherical grids that are centered on atoms.\n",
    "The DFT grid is specified by two variables:\n",
    "1. the number of points on a sphere (spherical grids, specified by the variable `DFT_SPHERICAL_POINTS`). Psi4 uses Lebedev grids, which have a well defined set of points (for example, 110,194,302,434,590,770,...). **The default value in psi4 is 302**.\n",
    "1. the number of spheres repeated around the atom (radial grid). Radial grids range typically between 50-100. **The default value in psi4 is 75**.\n",
    "\n",
    "The default setting used in psi4 correspond to the following setting\n",
    "```python\n",
    "psi4.set_options({'SCF_TYPE' : 'DF', 'DFT_SPHERICAL_POINTS' : 304, 'DFT_RADIAL_POINTS' : 75})\n",
    "```\n",
    "\n",
    "In all your computations use the following xyz coordinates for the 1,3-butadiene molecule and the def2-TZVP basis set\n",
    "```python\n",
    "C       -0.8344243369      0.8501484612     -0.7253718221                 \n",
    "C       -1.8774957513      0.0301597364     -0.5654824991                 \n",
    "C       -1.8797343449     -1.4051448234     -0.7394257063                 \n",
    "C       -0.8080513392     -2.2027090383     -0.8001525085                 \n",
    "H       -0.9290336893     -3.2764719955     -0.9066107864                 \n",
    "H        0.2069245251     -1.8262312041     -0.7355227035                 \n",
    "H       -2.8679640693     -1.8614071150     -0.7851285981                 \n",
    "H       -0.9495605292      1.9192966084     -0.5741034160                 \n",
    "H        0.1532292846      0.4959820053     -0.9995642823                 \n",
    "H       -2.8402242246      0.4619062756     -0.2938989549\n",
    "```\n",
    "\n",
    "- Report the time it takes to compute the energy of 1,3-butadiene using the PK, DIRECT, and DF algorithms **using the default grid settings**. To get the time it takes to execute a jupyter command you can use the jupyter magic command %time in this way\n",
    "```python\n",
    "%time e = psi4.energy('B3LYP/def2-TZVP')\n",
    "```\n",
    "this command prints the following text\n",
    "```\n",
    "CPU times: user 1min 3s, sys: 8.58 s, total: 1min 12s\n",
    "Wall time: 1min 11s\n",
    "```\n",
    "**Take the 'Wall time' as the measure of the total time**. Since each time you run a job the time will be different, **run three computations of each type reporting the shortest and longest time**.\n",
    "For each algorithm report the energy. How much different is the energy computed with DF from the PK and DIRECT energy (in kcal/mol)?\n",
    "Put your results in the following table\n",
    "\n",
    "| ALGORITHM | Minimum time (in seconds) | Maximum time (in seconds) | Error (in kcal/mol, wrt to PK) |\n",
    "|-----------|---------------------------|---------------------------|--------------------------------|\n",
    "| PK        |                           |                           |                                |\n",
    "| DIRECT    |                           |                           |                                |\n",
    "| DF        |                           |                           |                                |\n",
    "\n",
    "- Report the time it takes to compute the energy of 1,3-butadiene **using the DF algorithm** and the grid settings reported in the table below. Fill in the table with your results (run only one job for each setting instead of three). Report the total energy and the energy error with respect to the computation done with the largest grid\n",
    "\n",
    "\n",
    "| DFT_SPHERICAL_POINTS | DFT_RADIAL_POINTS | Time (in seconds) | Energy (in Eh) | Error (in kcal/mol, wrt to best) |\n",
    "|----------------------|-------------------|-------------------|----------------|----------------------------------|\n",
    "| 110                  | 25                |                   |                |                                  |\n",
    "| 194                  | 50                |                   |                |                                  |\n",
    "| 302                  | 75                |                   |                |                                  |\n",
    "| 590                  | 100               |                   |                |                                  |\n",
    "| 770                  | 150               |                   |                |                                  |\n",
    "\n",
    "- Although it is tempting to cut the grid in size there are potential artifacts that can arise with small grids. What grid size is necessary to achieve energies that differ by less than 10$^{-6}$ E$_h$ from the largest grid?"
   ]
  }
 ],
 "metadata": {
  "kernelspec": {
   "display_name": "Python 3",
   "language": "python",
   "name": "python3"
  },
  "language_info": {
   "codemirror_mode": {
    "name": "ipython",
    "version": 3
   },
   "file_extension": ".py",
   "mimetype": "text/x-python",
   "name": "python",
   "nbconvert_exporter": "python",
   "pygments_lexer": "ipython3",
   "version": "3.9.4"
  }
 },
 "nbformat": 4,
 "nbformat_minor": 4
}
