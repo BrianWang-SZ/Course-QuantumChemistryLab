{
 "cells": [
  {
   "cell_type": "markdown",
   "metadata": {},
   "source": [
    "# Tutorial 03: Characterization of stationary points with a harmonic vibrational analysis\n",
    "\n",
    "In this tutorial you will learn how to determine if a stationary point obtained via geometry optimization is a local minimum or a transition state. We will do this by performing a vibrational analysis."
   ]
  },
  {
   "cell_type": "code",
   "execution_count": 1,
   "metadata": {},
   "outputs": [],
   "source": [
    "import psi4"
   ]
  },
  {
   "cell_type": "markdown",
   "metadata": {},
   "source": [
    "## Ammonia inversion\n",
    "\n",
    "We will start with a very simple example. Let's go back to the ammonia molecule and optimize its structure\n",
    "\n",
    "### Equilibrium geometry"
   ]
  },
  {
   "cell_type": "code",
   "execution_count": 2,
   "metadata": {},
   "outputs": [
    {
     "name": "stdout",
     "output_type": "stream",
     "text": [
      "4\n",
      "0 1 H3N\n",
      "N                     0.000000000000    -0.088787078307     0.000000000000\n",
      "H                    -0.433012701892     0.411212921693    -0.750000000000\n",
      "H                    -0.433012701892     0.411212921693     0.750000000000\n",
      "H                     0.866025403784     0.411212921693     0.000000000000\n",
      "\n",
      "Optimizer: Optimization complete!\n"
     ]
    },
    {
     "data": {
      "text/plain": [
       "-56.148863715436285"
      ]
     },
     "execution_count": 2,
     "metadata": {},
     "output_type": "execute_result"
    }
   ],
   "source": [
    "psi4.set_output_file(\"output.nh3.dat\")\n",
    "\n",
    "geom = psi4.geometry(\"\"\"\n",
    "0 1\n",
    "X\n",
    "N 1 1.0\n",
    "H 2 R 1 A\n",
    "H 2 R 1 A 3 D\n",
    "H 2 R 1 A 3 -D\n",
    "\n",
    "R = 1.000\n",
    "A = 120.0\n",
    "D = 120.0\n",
    "\"\"\")\n",
    "\n",
    "print(geom.to_string(dtype='xyz'))\n",
    "\n",
    "psi4.optimize('scf/def2-SVP',molecule=geom)"
   ]
  },
  {
   "cell_type": "code",
   "execution_count": 19,
   "metadata": {},
   "outputs": [],
   "source": [
    "e, wfn = psi4.frequency('scf/def2-SVP',molecule=geom,return_wfn=True)"
   ]
  },
  {
   "cell_type": "markdown",
   "metadata": {},
   "source": [
    "From the wave function object (wfn) we can extract the vibrational frequencies (in cm$^{-1}$)"
   ]
  },
  {
   "cell_type": "code",
   "execution_count": 32,
   "metadata": {},
   "outputs": [
    {
     "name": "stdout",
     "output_type": "stream",
     "text": [
      "[1135.5780164  1782.13684438 1782.13684441 3696.60925844 3824.70825886\n",
      " 3824.70825888]\n"
     ]
    }
   ],
   "source": [
    "freqs = wfn.frequencies().to_array()\n",
    "print(freqs)"
   ]
  },
  {
   "cell_type": "markdown",
   "metadata": {},
   "source": [
    "The results of the harmonic vibrational analysis are printed at the bottom of the output file"
   ]
  },
  {
   "cell_type": "code",
   "execution_count": 16,
   "metadata": {},
   "outputs": [
    {
     "name": "stdout",
     "output_type": "stream",
     "text": [
      "\n",
      "\n",
      "  ==> Harmonic Vibrational Analysis <==\n",
      "\n",
      "  non-mass-weighted Hessian:       Symmetric? True   Hermitian? True   Lin Dep Dim?  0 (0)\n",
      "  projection of translations (True) and rotations (True) removed 6 degrees of freedom (6)\n",
      "  total projector:                 Symmetric? True   Hermitian? True   Lin Dep Dim?  6 (6)\n",
      "  mass-weighted Hessian:           Symmetric? True   Hermitian? True   Lin Dep Dim?  0 (0)\n",
      "  pre-proj  low-frequency mode:    0.0000i [cm^-1]\n",
      "  pre-proj  low-frequency mode:    0.0000i [cm^-1]\n",
      "  pre-proj  low-frequency mode:    0.0000i [cm^-1]\n",
      "  pre-proj  low-frequency mode:    0.0000i [cm^-1]\n",
      "  pre-proj  low-frequency mode:    0.0000i [cm^-1]\n",
      "  pre-proj  low-frequency mode:    0.0026  [cm^-1]\n",
      "  pre-proj  all modes:['25.9439i' '20.8029i' '20.8029i' '0.0023i' '0.0009i' '0.0026' '1135.5780'\n",
      " '1782.1369' '1782.1369' '3696.6093' '3824.7083' '3824.7083']\n",
      "  projected mass-weighted Hessian: Symmetric? True   Hermitian? True   Lin Dep Dim?  6 (6)\n",
      "  post-proj low-frequency mode:    0.0001i [cm^-1] (TR)\n",
      "  post-proj low-frequency mode:    0.0000i [cm^-1] (TR)\n",
      "  post-proj low-frequency mode:    0.0000  [cm^-1] (TR)\n",
      "  post-proj low-frequency mode:    0.0000  [cm^-1] (TR)\n",
      "  post-proj low-frequency mode:    0.0000  [cm^-1] (TR)\n",
      "  post-proj low-frequency mode:    0.0001  [cm^-1] (TR)\n",
      "  post-proj  all modes:['0.0001i' '0.0000i' '0.0000' '0.0000' '0.0000' '0.0001' '1135.5780'\n",
      " '1782.1368' '1782.1368' '3696.6093' '3824.7083' '3824.7083']\n",
      "\n",
      "  Vibration                       7                   8                   9           \n",
      "  Freq [cm^-1]                1135.5780           1782.1368           1782.1368       \n",
      "  Irrep                           Ap                                                  \n",
      "  Reduced mass [u]              1.1788              1.0653              1.0653        \n",
      "  Force const [mDyne/A]         0.8956              1.9935              1.9935        \n",
      "  Turning point v=0 [a0]        0.2999              0.2518              0.2518        \n",
      "  RMS dev v=0 [a0 u^1/2]        0.2302              0.1838              0.1838        \n",
      "  IR activ [km/mol]            181.3163            14.5894             14.5894        \n",
      "  Char temp [K]               1633.8439           2564.0981           2564.0981       \n",
      "  ----------------------------------------------------------------------------------\n",
      "      1   N                0.00 -0.11  0.00    0.02 -0.00 -0.06   -0.06 -0.00 -0.02   \n",
      "      2   H                0.11  0.53  0.19   -0.52 -0.17  0.19    0.41 -0.18 -0.36   \n",
      "      3   H                0.11  0.53 -0.19    0.23  0.24 -0.03    0.62 -0.06  0.40   \n",
      "      4   H               -0.22  0.53 -0.00    0.04 -0.07  0.73   -0.14  0.24  0.21   \n",
      "\n",
      "  Vibration                       10                  11                  12          \n",
      "  Freq [cm^-1]                3696.6093           3824.7083           3824.7083       \n",
      "  Irrep                           Ap                                                  \n",
      "  Reduced mass [u]              1.0282              1.0909              1.0909        \n",
      "  Force const [mDyne/A]         8.2779              9.4019              9.4019        \n",
      "  Turning point v=0 [a0]        0.1780              0.1699              0.1699        \n",
      "  RMS dev v=0 [a0 u^1/2]        0.1276              0.1255              0.1255        \n",
      "  IR activ [km/mol]             0.7992              2.7172              2.7172        \n",
      "  Char temp [K]               5318.5977           5502.9036           5502.9036       \n",
      "  ----------------------------------------------------------------------------------\n",
      "      1   N               -0.00 -0.04 -0.00    0.03  0.00 -0.08   -0.08  0.00 -0.03   \n",
      "      2   H               -0.27  0.18 -0.47    0.26 -0.20  0.42    0.28 -0.22  0.50   \n",
      "      3   H               -0.27  0.18  0.47   -0.37  0.29  0.64    0.06 -0.06 -0.13   \n",
      "      4   H                0.55  0.18 -0.00   -0.25 -0.10 -0.02    0.72  0.28 -0.01   \n",
      "\n",
      "  ==> Thermochemistry Components <==\n",
      "\n",
      "  Entropy, S\n",
      "    Electronic S            0.000 [cal/(mol K)]        0.000 [J/(mol K)]       0.00000000 [mEh/K] (multiplicity = 1)\n",
      "    Translational S        34.441 [cal/(mol K)]      144.100 [J/(mol K)]       0.05488488 [mEh/K] (mol. weight = 17.0265 [u], P = 101325.00 [Pa])\n",
      "    Rotational S           11.390 [cal/(mol K)]       47.656 [J/(mol K)]       0.01815140 [mEh/K] (symmetry no. = 3)\n",
      "    Vibrational S           0.061 [cal/(mol K)]        0.255 [J/(mol K)]       0.00009709 [mEh/K]\n",
      "  Total S                  45.892 [cal/(mol K)]      192.012 [J/(mol K)]       0.07313337 [mEh/K]\n",
      "  Correction S              0.000 [cal/(mol K)]        0.000 [J/(mol K)]       0.00000000 [mEh/K]\n",
      "\n",
      "  Constant volume heat capacity, Cv\n",
      "    Electronic Cv           0.000 [cal/(mol K)]        0.000 [J/(mol K)]       0.00000000 [mEh/K]\n",
      "    Translational Cv        2.981 [cal/(mol K)]       12.472 [J/(mol K)]       0.00475022 [mEh/K]\n",
      "    Rotational Cv           2.981 [cal/(mol K)]       12.472 [J/(mol K)]       0.00475022 [mEh/K]\n",
      "    Vibrational Cv          0.305 [cal/(mol K)]        1.276 [J/(mol K)]       0.00048616 [mEh/K]\n",
      "  Total Cv                  6.267 [cal/(mol K)]       26.220 [J/(mol K)]       0.00998659 [mEh/K]\n",
      "  Correction Cv             0.000 [cal/(mol K)]        0.000 [J/(mol K)]       0.00000000 [mEh/K]\n",
      "\n",
      "  Constant pressure heat capacity, Cp\n",
      "    Electronic Cp           0.000 [cal/(mol K)]        0.000 [J/(mol K)]       0.00000000 [mEh/K]\n",
      "    Translational Cp        4.968 [cal/(mol K)]       20.786 [J/(mol K)]       0.00791703 [mEh/K]\n",
      "    Rotational Cp           2.981 [cal/(mol K)]       12.472 [J/(mol K)]       0.00475022 [mEh/K]\n",
      "    Vibrational Cp          0.305 [cal/(mol K)]        1.276 [J/(mol K)]       0.00048616 [mEh/K]\n",
      "  Total Cp                  8.254 [cal/(mol K)]       34.534 [J/(mol K)]       0.01315340 [mEh/K]\n",
      "  Correction Cp             0.000 [cal/(mol K)]        0.000 [J/(mol K)]       0.00000000 [mEh/K]\n",
      "\n",
      "  ==> Thermochemistry Energy Analysis <==\n",
      "\n",
      "  Raw electronic energy, E0\n",
      "  Total E0, Electronic energy at well bottom at 0 [K]                  -56.14886372 [Eh]\n",
      "\n",
      "  Zero-point energy, ZPE_vib = Sum_i nu_i / 2\n",
      "    Electronic ZPE          0.000 [kcal/mol]        0.000 [kJ/mol]       0.00000000 [Eh]\n",
      "    Translational ZPE       0.000 [kcal/mol]        0.000 [kJ/mol]       0.00000000 [Eh]\n",
      "    Rotational ZPE          0.000 [kcal/mol]        0.000 [kJ/mol]       0.00000000 [Eh]\n",
      "    Vibrational ZPE        22.939 [kcal/mol]       95.976 [kJ/mol]       0.03655520 [Eh]        8022.939 [cm^-1]\n",
      "  Correction ZPE           22.939 [kcal/mol]       95.976 [kJ/mol]       0.03655520 [Eh]        8022.939 [cm^-1]\n",
      "  Total ZPE, Electronic energy at 0 [K]                                -56.11230852 [Eh]\n",
      "\n",
      "  Thermal Energy, E (includes ZPE)\n",
      "    Electronic E            0.000 [kcal/mol]        0.000 [kJ/mol]       0.00000000 [Eh]\n",
      "    Translational E         0.889 [kcal/mol]        3.718 [kJ/mol]       0.00141628 [Eh]\n",
      "    Rotational E            0.889 [kcal/mol]        3.718 [kJ/mol]       0.00141628 [Eh]\n",
      "    Vibrational E          22.954 [kcal/mol]       96.040 [kJ/mol]       0.03657985 [Eh]\n",
      "  Correction E             24.732 [kcal/mol]      103.477 [kJ/mol]       0.03941241 [Eh]\n",
      "  Total E, Electronic energy at  298.15 [K]                            -56.10945131 [Eh]\n",
      "\n",
      "  Enthalpy, H_trans = E_trans + k_B * T\n",
      "    Electronic H            0.000 [kcal/mol]        0.000 [kJ/mol]       0.00000000 [Eh]\n",
      "    Translational H         1.481 [kcal/mol]        6.197 [kJ/mol]       0.00236046 [Eh]\n",
      "    Rotational H            0.889 [kcal/mol]        3.718 [kJ/mol]       0.00141628 [Eh]\n",
      "    Vibrational H          22.954 [kcal/mol]       96.040 [kJ/mol]       0.03657985 [Eh]\n",
      "  Correction H             25.324 [kcal/mol]      105.956 [kJ/mol]       0.04035659 [Eh]\n",
      "  Total H, Enthalpy at  298.15 [K]                                     -56.10850712 [Eh]\n",
      "\n",
      "  Gibbs free energy, G = H - T * S\n",
      "    Electronic G            0.000 [kcal/mol]        0.000 [kJ/mol]       0.00000000 [Eh]\n",
      "    Translational G        -8.787 [kcal/mol]      -36.766 [kJ/mol]      -0.01400347 [Eh]\n",
      "    Rotational G           -2.507 [kcal/mol]      -10.490 [kJ/mol]      -0.00399556 [Eh]\n",
      "    Vibrational G          22.936 [kcal/mol]       95.964 [kJ/mol]       0.03655091 [Eh]\n",
      "  Correction G             11.641 [kcal/mol]       48.708 [kJ/mol]       0.01855188 [Eh]\n",
      "  Total G, Free enthalpy at  298.15 [K]                                -56.13031184 [Eh]\n",
      "\n"
     ]
    }
   ],
   "source": [
    "with open('output.nh3.dat','r') as f:\n",
    "    lines = f.readlines()[-118:]\n",
    "    print(''.join(lines))"
   ]
  },
  {
   "cell_type": "markdown",
   "metadata": {},
   "source": [
    "To check if a geometry is a minumum, we can write a function that tests the frequencies"
   ]
  },
  {
   "cell_type": "markdown",
   "metadata": {},
   "source": [
    "### Planar geometry\n",
    "\n",
    "Next, we will apply the vibrational analysis to the planar structure. Here we do something extra: we are going to ask psi4 to print out the normal modes to disk by setting the option `NORMAL_MODES_WRITE` to true:\n",
    "```python\n",
    "psi4.set_options({'NORMAL_MODES_WRITE' : True})\n",
    "```"
   ]
  },
  {
   "cell_type": "code",
   "execution_count": 38,
   "metadata": {},
   "outputs": [
    {
     "name": "stdout",
     "output_type": "stream",
     "text": [
      "4\n",
      "0 1 H3N\n",
      "N                     0.000000000000     0.000000000000     0.000000000000\n",
      "H                     0.000000000000     0.000000000000    -1.000000000000\n",
      "H                     0.866025403784     0.000000000000     0.500000000000\n",
      "H                    -0.866025403784     0.000000000000     0.500000000000\n",
      "\n",
      "Optimizer: Optimization complete!\n",
      "Warning: thermodynamics relations excluded imaginary frequencies: ['908.6689i']\n"
     ]
    }
   ],
   "source": [
    "psi4.set_output_file(\"output.nh3_ts.dat\")\n",
    "\n",
    "geom = psi4.geometry(\"\"\"\n",
    "0 1\n",
    "X\n",
    "N 1 1.0\n",
    "H 2 R 1 A\n",
    "H 2 R 1 A 3 D\n",
    "H 2 R 1 A 3 -D\n",
    "\n",
    "R = 1.000\n",
    "A = 90.0\n",
    "D = 120.0\n",
    "\"\"\")\n",
    "\n",
    "psi4.set_options({'NORMAL_MODES_WRITE' : True})\n",
    "print(geom.to_string(dtype='xyz'))\n",
    "psi4.optimize('scf/def2-SVP',molecule=geom)\n",
    "e_ts, wfn_ts = psi4.frequency('scf/def2-SVP',molecule=geom,return_wfn=True)"
   ]
  },
  {
   "cell_type": "code",
   "execution_count": 39,
   "metadata": {},
   "outputs": [
    {
     "name": "stdout",
     "output_type": "stream",
     "text": [
      "[1135.5780164  1782.13684438 1782.13684441 3696.60925844 3824.70825886\n",
      " 3824.70825888]\n",
      "  ==> Harmonic Vibrational Analysis <==\n",
      "\n",
      "  non-mass-weighted Hessian:       Symmetric? True   Hermitian? True   Lin Dep Dim?  0 (0)\n",
      "  projection of translations (True) and rotations (True) removed 6 degrees of freedom (6)\n",
      "  total projector:                 Symmetric? True   Hermitian? True   Lin Dep Dim?  6 (6)\n",
      "  mass-weighted Hessian:           Symmetric? True   Hermitian? True   Lin Dep Dim?  0 (0)\n",
      "  pre-proj  low-frequency mode:    0.0000i [cm^-1]\n",
      "  pre-proj  low-frequency mode:    0.0000i [cm^-1]\n",
      "  pre-proj  low-frequency mode:    0.0000i [cm^-1]\n",
      "  pre-proj  low-frequency mode:    0.0012  [cm^-1]\n",
      "  pre-proj  low-frequency mode:   18.3843  [cm^-1]\n",
      "  pre-proj  low-frequency mode:   18.3843  [cm^-1]\n",
      "  pre-proj  low-frequency mode:   18.3844  [cm^-1]\n",
      "  pre-proj  all modes:['908.6689i' '0.0025i' '0.0013i' '0.0012' '18.3843' '18.3843' '18.3844'\n",
      " '1663.6482' '1663.6482' '3804.3257' '4036.9455' '4036.9455']\n",
      "  projected mass-weighted Hessian: Symmetric? True   Hermitian? True   Lin Dep Dim?  6 (6)\n",
      "  post-proj low-frequency mode:  908.6689i [cm^-1] (V)\n",
      "  post-proj low-frequency mode:    0.0001i [cm^-1] (TR)\n",
      "  post-proj low-frequency mode:    0.0000i [cm^-1] (TR)\n",
      "  post-proj low-frequency mode:    0.0000  [cm^-1] (TR)\n",
      "  post-proj low-frequency mode:    0.0000  [cm^-1] (TR)\n",
      "  post-proj low-frequency mode:    0.0001  [cm^-1] (TR)\n",
      "  post-proj low-frequency mode:    0.0001  [cm^-1] (TR)\n",
      "  post-proj  all modes:['908.6689i' '0.0001i' '0.0000i' '0.0000' '0.0000' '0.0001' '0.0001'\n",
      " '1663.6482' '1663.6482' '3804.3257' '4036.9455' '4036.9455']\n",
      "\n",
      "  Vibration                       1                   8                   9           \n",
      "  Freq [cm^-1]                908.6689i           1663.6482           1663.6482       \n",
      "  Irrep                           B2                                                  \n",
      "  Reduced mass [u]              1.2067              1.0914              1.0914        \n",
      "  Force const [mDyne/A]        -0.5870              1.7798              1.7798        \n",
      "  Turning point v=0 [a0]        0.0000              0.2575              0.2575        \n",
      "  RMS dev v=0 [a0 u^1/2]        0.0000              0.1902              0.1902        \n",
      "  IR activ [km/mol]            516.9127            35.0480             35.0480        \n",
      "  Char temp [K]                 0.0000            2393.6193           2393.6193       \n",
      "  ----------------------------------------------------------------------------------\n",
      "      1   N                0.00 -0.12  0.00    0.00 -0.00 -0.08   -0.08 -0.00 -0.00   \n",
      "      2   H               -0.00  0.57 -0.00   -0.03 -0.00 -0.07    0.81  0.00 -0.00   \n",
      "      3   H               -0.00  0.57  0.00   -0.39  0.00  0.61    0.14  0.00 -0.36   \n",
      "      4   H               -0.00  0.57 -0.00    0.37  0.00  0.58    0.17  0.00  0.40   \n",
      "\n",
      "  Vibration                       10                  11                  12          \n",
      "  Freq [cm^-1]                3804.3257           4036.9455           4036.9455       \n",
      "  Irrep                           A1                                                  \n",
      "  Reduced mass [u]              1.0078              1.1053              1.1053        \n",
      "  Force const [mDyne/A]         8.5939             10.6132             10.6132        \n",
      "  Turning point v=0 [a0]        0.1772              0.1643              0.1643        \n",
      "  RMS dev v=0 [a0 u^1/2]        0.1258              0.1221              0.1221        \n",
      "  IR activ [km/mol]             0.0000             54.9401             54.9401        \n",
      "  Char temp [K]               5473.5777           5808.2657           5808.2657       \n",
      "  ----------------------------------------------------------------------------------\n",
      "      1   N                0.00  0.00  0.00   -0.05 -0.00 -0.07   -0.07  0.00  0.05   \n",
      "      2   H               -0.00  0.00  0.58   -0.01  0.00  0.63   -0.01 -0.00 -0.51   \n",
      "      3   H               -0.50  0.00 -0.29    0.66  0.00  0.38    0.25 -0.00  0.16   \n",
      "      4   H                0.50  0.00 -0.29    0.10  0.00 -0.07    0.70 -0.00 -0.40   \n",
      "\n",
      "  ==> Thermochemistry Components <==\n",
      "\n",
      "  Entropy, S\n",
      "    Electronic S            0.000 [cal/(mol K)]        0.000 [J/(mol K)]       0.00000000 [mEh/K] (multiplicity = 1)\n",
      "    Translational S        34.441 [cal/(mol K)]      144.100 [J/(mol K)]       0.05488488 [mEh/K] (mol. weight = 17.0265 [u], P = 101325.00 [Pa])\n",
      "    Rotational S            9.912 [cal/(mol K)]       41.472 [J/(mol K)]       0.01579579 [mEh/K] (symmetry no. = 6)\n",
      "    Vibrational S           0.012 [cal/(mol K)]        0.049 [J/(mol K)]       0.00001865 [mEh/K]\n",
      "  Total S                  44.364 [cal/(mol K)]      185.621 [J/(mol K)]       0.07069933 [mEh/K]\n",
      "  Correction S              0.000 [cal/(mol K)]        0.000 [J/(mol K)]       0.00000000 [mEh/K]\n",
      "\n",
      "  Constant volume heat capacity, Cv\n",
      "    Electronic Cv           0.000 [cal/(mol K)]        0.000 [J/(mol K)]       0.00000000 [mEh/K]\n",
      "    Translational Cv        2.981 [cal/(mol K)]       12.472 [J/(mol K)]       0.00475022 [mEh/K]\n",
      "    Rotational Cv           2.981 [cal/(mol K)]       12.472 [J/(mol K)]       0.00475022 [mEh/K]\n",
      "    Vibrational Cv          0.084 [cal/(mol K)]        0.350 [J/(mol K)]       0.00013324 [mEh/K]\n",
      "  Total Cv                  6.045 [cal/(mol K)]       25.293 [J/(mol K)]       0.00963367 [mEh/K]\n",
      "  Correction Cv             0.000 [cal/(mol K)]        0.000 [J/(mol K)]       0.00000000 [mEh/K]\n",
      "\n",
      "  Constant pressure heat capacity, Cp\n",
      "    Electronic Cp           0.000 [cal/(mol K)]        0.000 [J/(mol K)]       0.00000000 [mEh/K]\n",
      "    Translational Cp        4.968 [cal/(mol K)]       20.786 [J/(mol K)]       0.00791703 [mEh/K]\n",
      "    Rotational Cp           2.981 [cal/(mol K)]       12.472 [J/(mol K)]       0.00475022 [mEh/K]\n",
      "    Vibrational Cp          0.084 [cal/(mol K)]        0.350 [J/(mol K)]       0.00013324 [mEh/K]\n",
      "  Total Cp                  8.032 [cal/(mol K)]       33.608 [J/(mol K)]       0.01280048 [mEh/K]\n",
      "  Correction Cp             0.000 [cal/(mol K)]        0.000 [J/(mol K)]       0.00000000 [mEh/K]\n",
      "\n",
      "  ==> Thermochemistry Energy Analysis <==\n",
      "\n",
      "  Raw electronic energy, E0\n",
      "  Total E0, Electronic energy at well bottom at 0 [K]                  -56.13951484 [Eh]\n",
      "\n",
      "  Zero-point energy, ZPE_vib = Sum_i nu_i / 2\n",
      "    Electronic ZPE          0.000 [kcal/mol]        0.000 [kJ/mol]       0.00000000 [Eh]\n",
      "    Translational ZPE       0.000 [kcal/mol]        0.000 [kJ/mol]       0.00000000 [Eh]\n",
      "    Rotational ZPE          0.000 [kcal/mol]        0.000 [kJ/mol]       0.00000000 [Eh]\n",
      "    Vibrational ZPE        21.737 [kcal/mol]       90.949 [kJ/mol]       0.03464071 [Eh]        7602.756 [cm^-1]\n",
      "  Correction ZPE           21.737 [kcal/mol]       90.949 [kJ/mol]       0.03464071 [Eh]        7602.756 [cm^-1]\n",
      "  Total ZPE, Electronic energy at 0 [K]                                -56.10487413 [Eh]\n",
      "\n",
      "  Thermal Energy, E (includes ZPE)\n",
      "    Electronic E            0.000 [kcal/mol]        0.000 [kJ/mol]       0.00000000 [Eh]\n",
      "    Translational E         0.889 [kcal/mol]        3.718 [kJ/mol]       0.00141628 [Eh]\n",
      "    Rotational E            0.889 [kcal/mol]        3.718 [kJ/mol]       0.00141628 [Eh]\n",
      "    Vibrational E          21.740 [kcal/mol]       90.962 [kJ/mol]       0.03464565 [Eh]\n",
      "  Correction E             23.518 [kcal/mol]       98.399 [kJ/mol]       0.03747821 [Eh]\n",
      "  Total E, Electronic energy at  298.15 [K]                            -56.10203663 [Eh]\n",
      "\n",
      "  Enthalpy, H_trans = E_trans + k_B * T\n",
      "    Electronic H            0.000 [kcal/mol]        0.000 [kJ/mol]       0.00000000 [Eh]\n",
      "    Translational H         1.481 [kcal/mol]        6.197 [kJ/mol]       0.00236046 [Eh]\n",
      "    Rotational H            0.889 [kcal/mol]        3.718 [kJ/mol]       0.00141628 [Eh]\n",
      "    Vibrational H          21.740 [kcal/mol]       90.962 [kJ/mol]       0.03464565 [Eh]\n",
      "  Correction H             24.110 [kcal/mol]      100.878 [kJ/mol]       0.03842239 [Eh]\n",
      "  Total H, Enthalpy at  298.15 [K]                                     -56.10109245 [Eh]\n",
      "\n",
      "  Gibbs free energy, G = H - T * S\n",
      "    Electronic G            0.000 [kcal/mol]        0.000 [kJ/mol]       0.00000000 [Eh]\n",
      "    Translational G        -8.787 [kcal/mol]      -36.766 [kJ/mol]      -0.01400347 [Eh]\n",
      "    Rotational G           -2.067 [kcal/mol]       -8.646 [kJ/mol]      -0.00329324 [Eh]\n",
      "    Vibrational G          21.737 [kcal/mol]       90.948 [kJ/mol]       0.03464009 [Eh]\n",
      "  Correction G             10.883 [kcal/mol]       45.535 [kJ/mol]       0.01734339 [Eh]\n",
      "  Total G, Free enthalpy at  298.15 [K]                                -56.12217145 [Eh]\n",
      "\n"
     ]
    }
   ],
   "source": [
    "freqs_ts = wfn.frequencies().to_array()\n",
    "print(freqs_ts)\n",
    "\n",
    "with open('output.nh3_ts.dat','r') as f:\n",
    "    lines = f.readlines()[-118:]\n",
    "    print(''.join(lines))"
   ]
  },
  {
   "cell_type": "markdown",
   "metadata": {},
   "source": [
    "Now we can take a look at the vibrational modes. We will use the `fortecubeview` module"
   ]
  },
  {
   "cell_type": "code",
   "execution_count": 40,
   "metadata": {},
   "outputs": [
    {
     "data": {
      "application/vnd.jupyter.widget-view+json": {
       "model_id": "c9fddb173ea541049a357a12da464293",
       "version_major": 2,
       "version_minor": 0
      },
      "text/plain": [
       "VBox(children=(HTML(value=''), Renderer(camera=OrthographicCamera(bottom=-5.0, children=(DirectionalLight(colo…"
      ]
     },
     "metadata": {},
     "output_type": "display_data"
    },
    {
     "data": {
      "application/vnd.jupyter.widget-view+json": {
       "model_id": "5e479450db7a4750b044e2377b7c9314",
       "version_major": 2,
       "version_minor": 0
      },
      "text/plain": [
       "HTML(value='\\n        <style>\\n           .jupyter-widgets-output-area .output_scroll {\\n                heigh…"
      ]
     },
     "metadata": {},
     "output_type": "display_data"
    },
    {
     "data": {
      "application/vnd.jupyter.widget-view+json": {
       "model_id": "dd3564aaa4e8470481cd09727a320b41",
       "version_major": 2,
       "version_minor": 0
      },
      "text/plain": [
       "interactive(children=(Select(description='Select:', options=('1: Imaginary mode (i908.7 cm^-1)', '2: Normal mo…"
      ]
     },
     "metadata": {},
     "output_type": "display_data"
    },
    {
     "data": {
      "text/plain": [
       "<fortecubeview.vib_viewer.VibViewer at 0x7fd5cf73c150>"
      ]
     },
     "execution_count": 40,
     "metadata": {},
     "output_type": "execute_result"
    }
   ],
   "source": [
    "import fortecubeview\n",
    "fortecubeview.vib('output.nh3_ts.default.29094.molden_normal_modes')"
   ]
  },
  {
   "cell_type": "markdown",
   "metadata": {},
   "source": [
    "## Another example\n",
    "\n",
    "We will now move to show a simple application of the computation of frequencies. We will optimize and compute the frequencies of acetaldehyde:\n",
    "\n",
    "<img src=\"./c2h4o.png\" alt=\"c2h4o molecule\" width=\"150\"/>"
   ]
  },
  {
   "cell_type": "code",
   "execution_count": 52,
   "metadata": {},
   "outputs": [
    {
     "name": "stdout",
     "output_type": "stream",
     "text": [
      "Optimizer: Optimization complete!\n",
      "Warning: thermodynamics relations excluded imaginary frequencies: ['175.7720i']\n",
      "Warning: used thermodynamics relations inappropriate for low-frequency modes: ['550.3262']\n"
     ]
    }
   ],
   "source": [
    "GApsi4.core.set_output_file('output.C2OH4.dat',False)\n",
    "\n",
    "mol = psi4.geometry(\"\"\"\n",
    "C       -1.4851649825      1.0105098419     -0.0136919013                 \n",
    "C       -1.4295256812     -0.4854850139      0.0016993677                 \n",
    "O       -2.5145012116      1.6407920050     -0.2333702113                 \n",
    "H       -0.4066169295     -0.8037578895      0.2192647845                 \n",
    "H       -1.7209386966     -0.8720278934     -0.9774425038                 \n",
    "H       -2.0934632091     -0.8677995447      0.7802096768                 \n",
    "H       -0.5331793331      1.5302219067      0.1868246310                 \n",
    "\"\"\")\n",
    "\n",
    "psi4.set_options({'NORMAL_MODES_WRITE' : True})\n",
    "\n",
    "psi4.optimize('scf/def2-SVP',molecule=mol)\n",
    "e_2,wfn_2=psi4.frequencies('scf/def2-SVP',return_wfn=True,molecule=mol)"
   ]
  },
  {
   "cell_type": "code",
   "execution_count": 49,
   "metadata": {},
   "outputs": [
    {
     "name": "stdout",
     "output_type": "stream",
     "text": [
      "[-175.77198881  550.32623432  822.14233909 1010.65362306 1187.00263273\n",
      " 1248.4341809  1490.33798982 1548.43860372 1568.39434117 1577.51793913\n",
      " 2044.68163308 3116.50386038 3189.8468751  3279.43360223 3295.85877983]\n",
      "\n",
      "\n",
      "  ==> Harmonic Vibrational Analysis <==\n",
      "\n",
      "  non-mass-weighted Hessian:       Symmetric? True   Hermitian? True   Lin Dep Dim?  0 (0)\n",
      "  projection of translations (True) and rotations (True) removed 6 degrees of freedom (6)\n",
      "  total projector:                 Symmetric? True   Hermitian? True   Lin Dep Dim?  6 (6)\n",
      "  mass-weighted Hessian:           Symmetric? True   Hermitian? True   Lin Dep Dim?  0 (0)\n",
      "  pre-proj  low-frequency mode:    0.0000i [cm^-1]\n",
      "  pre-proj  low-frequency mode:    0.0000i [cm^-1]\n",
      "  pre-proj  low-frequency mode:    0.0000i [cm^-1]\n",
      "  pre-proj  low-frequency mode:    0.0020  [cm^-1]\n",
      "  pre-proj  low-frequency mode:    0.0095  [cm^-1]\n",
      "  pre-proj  low-frequency mode:    0.0187  [cm^-1]\n",
      "  pre-proj  low-frequency mode:    5.7440  [cm^-1]\n",
      "  pre-proj  all modes:['175.7724i' '6.8335i' '5.5559i' '0.0020' '0.0095' '0.0187' '5.7440'\n",
      " '550.3262' '822.1423' '1010.6536' '1187.0026' '1248.4342' '1490.3380'\n",
      " '1548.4386' '1568.3943' '1577.5179' '2044.6816' '3116.5039' '3189.8469'\n",
      " '3279.4336' '3295.8588']\n",
      "  projected mass-weighted Hessian: Symmetric? True   Hermitian? True   Lin Dep Dim?  6 (6)\n",
      "  post-proj low-frequency mode:  175.7720i [cm^-1] (V)\n",
      "  post-proj low-frequency mode:    0.0000i [cm^-1] (TR)\n",
      "  post-proj low-frequency mode:    0.0000i [cm^-1] (TR)\n",
      "  post-proj low-frequency mode:    0.0000i [cm^-1] (TR)\n",
      "  post-proj low-frequency mode:    0.0000  [cm^-1] (TR)\n",
      "  post-proj low-frequency mode:    0.0000  [cm^-1] (TR)\n",
      "  post-proj low-frequency mode:    0.0000  [cm^-1] (TR)\n",
      "  post-proj  all modes:['175.7720i' '0.0000i' '0.0000i' '0.0000i' '0.0000' '0.0000' '0.0000'\n",
      " '550.3262' '822.1423' '1010.6536' '1187.0026' '1248.4342' '1490.3380'\n",
      " '1548.4386' '1568.3943' '1577.5179' '2044.6816' '3116.5039' '3189.8469'\n",
      " '3279.4336' '3295.8588']\n",
      "\n",
      "  Vibration                       1                   8                   9           \n",
      "  Freq [cm^-1]                175.7720i            550.3262            822.1423       \n",
      "  Irrep                           A                   A                   A           \n",
      "  Reduced mass [u]              1.1942              2.6594              1.1682        \n",
      "  Force const [mDyne/A]        -0.0217              0.4745              0.4652        \n",
      "  Turning point v=0 [a0]        0.0000              0.2868              0.3541        \n",
      "  RMS dev v=0 [a0 u^1/2]        0.0000              0.3307              0.2706        \n",
      "  IR activ [km/mol]             9.0256             19.2458              0.4513        \n",
      "  Char temp [K]                 0.0000             791.7969           1182.8798       \n",
      "  ----------------------------------------------------------------------------------\n",
      "      1   C                0.02 -0.00 -0.09   -0.18 -0.10 -0.04    0.02 -0.00 -0.08   \n",
      "      2   C               -0.00  0.00  0.02    0.09 -0.15  0.02    0.02 -0.00 -0.07   \n",
      "      3   O               -0.02  0.00  0.07    0.01  0.24  0.00   -0.01  0.00  0.04   \n",
      "      4   H               -0.11  0.00  0.51    0.27  0.36  0.06   -0.06  0.00  0.28   \n",
      "      5   H                0.50 -0.01 -0.14    0.32 -0.43  0.05   -0.01 -0.52  0.15   \n",
      "      6   H               -0.40  0.01 -0.33    0.32 -0.43  0.08   -0.05  0.52  0.14   \n",
      "      7   H                0.09 -0.00 -0.40   -0.08 -0.27 -0.02   -0.12  0.00  0.55   \n",
      "\n",
      "  Vibration                       10                  11                  12          \n",
      "  Freq [cm^-1]                1010.6536           1187.0026           1248.4342       \n",
      "  Irrep                           A                   A                   A           \n",
      "  Reduced mass [u]              2.2141              1.8841              1.7359        \n",
      "  Force const [mDyne/A]         1.3324              1.5640              1.5940        \n",
      "  Turning point v=0 [a0]        0.2320              0.2320              0.2357        \n",
      "  RMS dev v=0 [a0 u^1/2]        0.2441              0.2252              0.2196        \n",
      "  IR activ [km/mol]             8.5049             38.4708              1.8987        \n",
      "  Char temp [K]               1454.1055           1707.8325           1796.2188       \n",
      "  ----------------------------------------------------------------------------------\n",
      "      1   C               -0.04 -0.18 -0.01    0.11  0.17  0.02   -0.04  0.00  0.21   \n",
      "      2   C               -0.10  0.23 -0.02   -0.17 -0.07 -0.04    0.03 -0.00 -0.13   \n",
      "      3   O                0.07 -0.07  0.02    0.00 -0.06  0.00    0.01 -0.00 -0.04   \n",
      "      4   H                0.09  0.82  0.02    0.03  0.48  0.01   -0.05  0.00  0.25   \n",
      "      5   H                0.15  0.05 -0.02    0.29 -0.49 -0.02   -0.09 -0.41  0.08   \n",
      "      6   H                0.13  0.05  0.08    0.25 -0.49  0.14    0.05  0.41  0.11   \n",
      "      7   H                0.08 -0.40  0.02    0.09  0.22  0.02    0.15 -0.00 -0.69   \n",
      "\n",
      "  Vibration                       13                  14                  15          \n",
      "  Freq [cm^-1]                1490.3380           1548.4386           1568.3943       \n",
      "  Irrep                           A                   A                   A           \n",
      "  Reduced mass [u]              1.2217              1.1951              1.0949        \n",
      "  Force const [mDyne/A]         1.5987              1.6882              1.5869        \n",
      "  Turning point v=0 [a0]        0.2572              0.2551              0.2648        \n",
      "  RMS dev v=0 [a0 u^1/2]        0.2010              0.1972              0.1959        \n",
      "  IR activ [km/mol]             8.6344             26.7483             10.9603        \n",
      "  Char temp [K]               2144.2645           2227.8584           2256.5703       \n",
      "  ----------------------------------------------------------------------------------\n",
      "      1   C               -0.00 -0.02 -0.00   -0.03 -0.08 -0.01   -0.02 -0.04 -0.00   \n",
      "      2   C               -0.03 -0.13 -0.01   -0.00  0.05 -0.00   -0.05  0.06 -0.01   \n",
      "      3   O                0.02  0.01  0.00    0.07 -0.00  0.02    0.01  0.01  0.00   \n",
      "      4   H                0.14  0.39  0.03   -0.03  0.00 -0.01   -0.23 -0.51 -0.05   \n",
      "      5   H                0.12  0.47 -0.29   -0.14 -0.20  0.15    0.54  0.01 -0.18   \n",
      "      6   H               -0.01  0.48  0.31   -0.07 -0.20 -0.19    0.42  0.02  0.38   \n",
      "      7   H               -0.20  0.34 -0.04   -0.51  0.74 -0.11   -0.10  0.09 -0.02   \n",
      "\n",
      "  Vibration                       16                  17                  18          \n",
      "  Freq [cm^-1]                1577.5179           2044.6816           3116.5039       \n",
      "  Irrep                           A                   A                   A           \n",
      "  Reduced mass [u]              1.0472             10.3048              1.0866        \n",
      "  Force const [mDyne/A]         1.5354             25.3828              6.2178        \n",
      "  Turning point v=0 [a0]        0.2700              0.0756              0.1886        \n",
      "  RMS dev v=0 [a0 u^1/2]        0.1953              0.1716              0.1390        \n",
      "  IR activ [km/mol]             7.8684             237.3343            110.2662       \n",
      "  Char temp [K]               2269.6971           2941.8416           4483.9552       \n",
      "  ----------------------------------------------------------------------------------\n",
      "      1   C                0.01 -0.00 -0.03    0.58 -0.41  0.12   -0.07 -0.04 -0.01   \n",
      "      2   C                0.01 -0.00 -0.05   -0.04  0.04 -0.01    0.00 -0.00  0.00   \n",
      "      3   O               -0.00  0.00  0.00   -0.41  0.25 -0.09    0.00  0.00  0.00   \n",
      "      4   H               -0.15  0.00  0.71   -0.00  0.20 -0.00   -0.09  0.02 -0.02   \n",
      "      5   H               -0.38  0.29 -0.03   -0.00 -0.09  0.05    0.01  0.01  0.03   \n",
      "      6   H                0.36 -0.29  0.13    0.02 -0.09 -0.05    0.02  0.01 -0.02   \n",
      "      7   H               -0.01  0.00  0.04    0.09  0.41  0.02    0.84  0.50  0.18   \n",
      "\n",
      "  Vibration                       19                  20                  21          \n",
      "  Freq [cm^-1]                3189.8469           3279.4336           3295.8588       \n",
      "  Irrep                           A                   A                   A           \n",
      "  Reduced mass [u]              1.0380              1.1033              1.1072        \n",
      "  Force const [mDyne/A]         6.2227              6.9911              7.0862        \n",
      "  Turning point v=0 [a0]        0.1907              0.1824              0.1816        \n",
      "  RMS dev v=0 [a0 u^1/2]        0.1374              0.1355              0.1351        \n",
      "  IR activ [km/mol]             3.2612              5.1629             18.8453        \n",
      "  Char temp [K]               4589.4794           4718.3748           4742.0070       \n",
      "  ----------------------------------------------------------------------------------\n",
      "      1   C                0.00  0.01  0.00    0.00 -0.00 -0.00   -0.00 -0.00 -0.00   \n",
      "      2   C               -0.01 -0.05 -0.00    0.02 -0.00 -0.09   -0.09  0.00 -0.02   \n",
      "      3   O                0.00 -0.00  0.00   -0.00  0.00  0.00    0.00  0.00  0.00   \n",
      "      4   H               -0.49  0.17 -0.10    0.00 -0.00 -0.01    0.78 -0.27  0.17   \n",
      "      5   H                0.18  0.21  0.53    0.21  0.25  0.62    0.10  0.13  0.33   \n",
      "      6   H                0.38  0.20 -0.42   -0.45 -0.25  0.48    0.23  0.13 -0.26   \n",
      "      7   H               -0.07 -0.05 -0.01    0.00 -0.00 -0.00    0.04  0.03  0.01   \n",
      "\n",
      "  ==> Thermochemistry Components <==\n",
      "\n",
      "  Entropy, S\n",
      "    Electronic S            0.000 [cal/(mol K)]        0.000 [J/(mol K)]       0.00000000 [mEh/K] (multiplicity = 1)\n",
      "    Translational S        37.273 [cal/(mol K)]      155.948 [J/(mol K)]       0.05939764 [mEh/K] (mol. weight = 44.0262 [u], P = 101325.00 [Pa])\n",
      "    Rotational S           21.599 [cal/(mol K)]       90.371 [J/(mol K)]       0.03442036 [mEh/K] (symmetry no. = 1)\n",
      "    Vibrational S           0.941 [cal/(mol K)]        3.936 [J/(mol K)]       0.00149933 [mEh/K]\n",
      "  Total S                  59.813 [cal/(mol K)]      250.256 [J/(mol K)]       0.09531733 [mEh/K]\n",
      "  Correction S              0.000 [cal/(mol K)]        0.000 [J/(mol K)]       0.00000000 [mEh/K]\n",
      "\n",
      "  Constant volume heat capacity, Cv\n",
      "    Electronic Cv           0.000 [cal/(mol K)]        0.000 [J/(mol K)]       0.00000000 [mEh/K]\n",
      "    Translational Cv        2.981 [cal/(mol K)]       12.472 [J/(mol K)]       0.00475022 [mEh/K]\n",
      "    Rotational Cv           2.981 [cal/(mol K)]       12.472 [J/(mol K)]       0.00475022 [mEh/K]\n",
      "    Vibrational Cv          2.775 [cal/(mol K)]       11.612 [J/(mol K)]       0.00442263 [mEh/K]\n",
      "  Total Cv                  8.737 [cal/(mol K)]       36.555 [J/(mol K)]       0.01392306 [mEh/K]\n",
      "  Correction Cv             0.000 [cal/(mol K)]        0.000 [J/(mol K)]       0.00000000 [mEh/K]\n",
      "\n",
      "  Constant pressure heat capacity, Cp\n",
      "    Electronic Cp           0.000 [cal/(mol K)]        0.000 [J/(mol K)]       0.00000000 [mEh/K]\n",
      "    Translational Cp        4.968 [cal/(mol K)]       20.786 [J/(mol K)]       0.00791703 [mEh/K]\n",
      "    Rotational Cp           2.981 [cal/(mol K)]       12.472 [J/(mol K)]       0.00475022 [mEh/K]\n",
      "    Vibrational Cp          2.775 [cal/(mol K)]       11.612 [J/(mol K)]       0.00442263 [mEh/K]\n",
      "  Total Cp                 10.724 [cal/(mol K)]       44.869 [J/(mol K)]       0.01708988 [mEh/K]\n",
      "  Correction Cp             0.000 [cal/(mol K)]        0.000 [J/(mol K)]       0.00000000 [mEh/K]\n",
      "\n",
      "  ==> Thermochemistry Energy Analysis <==\n",
      "\n",
      "  Raw electronic energy, E0\n",
      "  Total E0, Electronic energy at well bottom at 0 [K]                 -152.79928803 [Eh]\n",
      "\n",
      "  Zero-point energy, ZPE_vib = Sum_i nu_i / 2\n",
      "    Electronic ZPE          0.000 [kcal/mol]        0.000 [kJ/mol]       0.00000000 [Eh]\n",
      "    Translational ZPE       0.000 [kcal/mol]        0.000 [kJ/mol]       0.00000000 [Eh]\n",
      "    Rotational ZPE          0.000 [kcal/mol]        0.000 [kJ/mol]       0.00000000 [Eh]\n",
      "    Vibrational ZPE        37.068 [kcal/mol]      155.093 [kJ/mol]       0.05907191 [Eh]       12964.786 [cm^-1]\n",
      "  Correction ZPE           37.068 [kcal/mol]      155.093 [kJ/mol]       0.05907191 [Eh]       12964.786 [cm^-1]\n",
      "  Total ZPE, Electronic energy at 0 [K]                               -152.74021612 [Eh]\n",
      "\n",
      "  Thermal Energy, E (includes ZPE)\n",
      "    Electronic E            0.000 [kcal/mol]        0.000 [kJ/mol]       0.00000000 [Eh]\n",
      "    Translational E         0.889 [kcal/mol]        3.718 [kJ/mol]       0.00141628 [Eh]\n",
      "    Rotational E            0.889 [kcal/mol]        3.718 [kJ/mol]       0.00141628 [Eh]\n",
      "    Vibrational E          37.285 [kcal/mol]      156.000 [kJ/mol]       0.05941729 [Eh]\n",
      "  Correction E             39.062 [kcal/mol]      163.437 [kJ/mol]       0.06224984 [Eh]\n",
      "  Total E, Electronic energy at  298.15 [K]                           -152.73703819 [Eh]\n",
      "\n",
      "  Enthalpy, H_trans = E_trans + k_B * T\n",
      "    Electronic H            0.000 [kcal/mol]        0.000 [kJ/mol]       0.00000000 [Eh]\n",
      "    Translational H         1.481 [kcal/mol]        6.197 [kJ/mol]       0.00236046 [Eh]\n",
      "    Rotational H            0.889 [kcal/mol]        3.718 [kJ/mol]       0.00141628 [Eh]\n",
      "    Vibrational H          37.285 [kcal/mol]      156.000 [kJ/mol]       0.05941729 [Eh]\n",
      "  Correction H             39.655 [kcal/mol]      165.916 [kJ/mol]       0.06319403 [Eh]\n",
      "  Total H, Enthalpy at  298.15 [K]                                    -152.73609400 [Eh]\n",
      "\n",
      "  Gibbs free energy, G = H - T * S\n",
      "    Electronic G            0.000 [kcal/mol]        0.000 [kJ/mol]       0.00000000 [Eh]\n",
      "    Translational G        -9.632 [kcal/mol]      -40.299 [kJ/mol]      -0.01534895 [Eh]\n",
      "    Rotational G           -5.551 [kcal/mol]      -23.226 [kJ/mol]      -0.00884615 [Eh]\n",
      "    Vibrational G          37.004 [kcal/mol]      154.826 [kJ/mol]       0.05897026 [Eh]\n",
      "  Correction G             21.822 [kcal/mol]       91.302 [kJ/mol]       0.03477517 [Eh]\n",
      "  Total G, Free enthalpy at  298.15 [K]                               -152.76451286 [Eh]\n",
      "\n"
     ]
    }
   ],
   "source": [
    "freqs = wfn_2.frequencies().to_array()\n",
    "print(freqs)\n",
    "\n",
    "with open('output.C2OH4.dat','r') as f:\n",
    "    lines = f.readlines()[-184:]\n",
    "    print(''.join(lines))"
   ]
  },
  {
   "cell_type": "markdown",
   "metadata": {},
   "source": [
    "What mode gives the imaginary frequency?"
   ]
  },
  {
   "cell_type": "code",
   "execution_count": 50,
   "metadata": {},
   "outputs": [
    {
     "data": {
      "application/vnd.jupyter.widget-view+json": {
       "model_id": "7861ac33f6f641fd8b1cfbb182aea9b4",
       "version_major": 2,
       "version_minor": 0
      },
      "text/plain": [
       "VBox(children=(HTML(value=''), Renderer(camera=OrthographicCamera(bottom=-5.0, children=(DirectionalLight(colo…"
      ]
     },
     "metadata": {},
     "output_type": "display_data"
    },
    {
     "data": {
      "application/vnd.jupyter.widget-view+json": {
       "model_id": "9016ce87bcb646f691d69005e561dcc3",
       "version_major": 2,
       "version_minor": 0
      },
      "text/plain": [
       "HTML(value='\\n        <style>\\n           .jupyter-widgets-output-area .output_scroll {\\n                heigh…"
      ]
     },
     "metadata": {},
     "output_type": "display_data"
    },
    {
     "data": {
      "application/vnd.jupyter.widget-view+json": {
       "model_id": "09f12245fc3e44228e20896d6d47babb",
       "version_major": 2,
       "version_minor": 0
      },
      "text/plain": [
       "interactive(children=(Select(description='Select:', options=('1: Imaginary mode (i175.8 cm^-1)', '2: Normal mo…"
      ]
     },
     "metadata": {},
     "output_type": "display_data"
    },
    {
     "data": {
      "text/plain": [
       "<fortecubeview.vib_viewer.VibViewer at 0x7fd5d1a62750>"
      ]
     },
     "execution_count": 50,
     "metadata": {},
     "output_type": "execute_result"
    }
   ],
   "source": [
    "fortecubeview.vib('output.C2OH4.default.29094.molden_normal_modes')"
   ]
  },
  {
   "cell_type": "markdown",
   "metadata": {},
   "source": [
    "To find the minimum, we can rotate the C-C bond and reoptimize"
   ]
  },
  {
   "cell_type": "code",
   "execution_count": 53,
   "metadata": {},
   "outputs": [
    {
     "name": "stdout",
     "output_type": "stream",
     "text": [
      "Optimizer: Optimization complete!\n",
      "Warning: used thermodynamics relations inappropriate for low-frequency modes: ['158.1222' '551.3463']\n"
     ]
    }
   ],
   "source": [
    "GApsi4.core.set_output_file('output.C2OH4.2.dat',False)\n",
    "\n",
    "mol = psi4.geometry(\"\"\"\n",
    "C       -1.4851649825      1.0105098419     -0.0136919013                 \n",
    "C       -1.4295256812     -0.4854850139      0.0016993677                 \n",
    "O       -2.1398156566      1.6485701762     -0.8318353741                 \n",
    "H       -0.4066169295     -0.8037578895      0.2192647845                 \n",
    "H       -1.7209386966     -0.8720278934     -0.9774425038                 \n",
    "H       -2.0934632091     -0.8677995447      0.7802096768                 \n",
    "H       -0.8949834415      1.5227111606      0.7647165676                 \n",
    "\"\"\")\n",
    "\n",
    "psi4.optimize('scf/def2-SVP',molecule=mol)\n",
    "e_2b,wfn_2b=psi4.frequencies('scf/def2-SVP',return_wfn=True,molecule=mol)"
   ]
  },
  {
   "cell_type": "code",
   "execution_count": 55,
   "metadata": {},
   "outputs": [
    {
     "data": {
      "application/vnd.jupyter.widget-view+json": {
       "model_id": "c36fc9ea3379411d879889ad13036bc8",
       "version_major": 2,
       "version_minor": 0
      },
      "text/plain": [
       "VBox(children=(HTML(value=''), Renderer(camera=OrthographicCamera(bottom=-5.0, children=(DirectionalLight(colo…"
      ]
     },
     "metadata": {},
     "output_type": "display_data"
    },
    {
     "data": {
      "application/vnd.jupyter.widget-view+json": {
       "model_id": "875fa1af38104d37afe3120456e28103",
       "version_major": 2,
       "version_minor": 0
      },
      "text/plain": [
       "HTML(value='\\n        <style>\\n           .jupyter-widgets-output-area .output_scroll {\\n                heigh…"
      ]
     },
     "metadata": {},
     "output_type": "display_data"
    },
    {
     "data": {
      "application/vnd.jupyter.widget-view+json": {
       "model_id": "f6f22dd56af94b69be9069a381e563cf",
       "version_major": 2,
       "version_minor": 0
      },
      "text/plain": [
       "interactive(children=(Select(description='Select:', options=('1: Normal mode (158.1 cm^-1)', '2: Normal mode (…"
      ]
     },
     "metadata": {},
     "output_type": "display_data"
    },
    {
     "data": {
      "text/plain": [
       "<fortecubeview.vib_viewer.VibViewer at 0x7fd5d1a380d0>"
      ]
     },
     "execution_count": 55,
     "metadata": {},
     "output_type": "execute_result"
    }
   ],
   "source": [
    "fortecubeview.vib('output.C2OH4.2.default.29094.molden_normal_modes')"
   ]
  },
  {
   "cell_type": "code",
   "execution_count": 12,
   "metadata": {},
   "outputs": [
    {
     "data": {
      "image/png": "[encoded data removed]",
      "text/plain": [
       "<Figure size 432x288 with 1 Axes>"
      ]
     },
     "metadata": {
      "needs_background": "light"
     },
     "output_type": "display_data"
    }
   ],
   "source": [
    "def plot_freqs(filename):\n",
    "    \"\"\"\n",
    "    Function to plot the IR spectrum.\n",
    "\n",
    "    Usage: plot_freqs(filename)\n",
    "\n",
    "    Inputs: name of psi4 output file from SCF calculation\n",
    "    filename: name\n",
    "\n",
    "    Output: plot of the IR spectrum\n",
    "    \"\"\"\n",
    "\n",
    "    import math\n",
    "    import matplotlib.pyplot as plt\n",
    "\n",
    "    with open(filename) as f:\n",
    "        frequencies = []\n",
    "        intensities = []        \n",
    "        for line in f:\n",
    "            if 'Freq [cm^-1]' in line:\n",
    "                for val in [float(omega) for omega in line.split()[2:]]:\n",
    "                    frequencies.append(val)\n",
    "            if 'IR activ [km/mol]' in line:\n",
    "                for val in [float(omega) for omega in line.split()[3:]]:\n",
    "                    intensities.append(val)\n",
    "\n",
    "    xmin = min(min(frequencies),0.0)\n",
    "    xmax = max(frequencies) + 25.0\n",
    "    npoints = 600\n",
    "    alpha = 1.0 / 100.0\n",
    "    dx = (xmax - xmin)/ float(npoints)\n",
    "    xvals = [xmin + dx * i for i in range(npoints)]\n",
    "    yvals = []\n",
    "    for x in xvals:\n",
    "        y = 0.0\n",
    "        for f,i in zip(frequencies,intensities):\n",
    "            y += i * math.exp(- alpha * (x - f)**2)\n",
    "        yvals.append(y)\n",
    "\n",
    "    plt.plot(xvals,yvals)\n",
    "    plt.xlabel('wavelength (cm^-1)')\n",
    "    plt.ylabel('intensity (km/mol)')\n",
    "    plt.title('IR Spectrum')\n",
    "    plt.show() \n",
    "    \n",
    "plot_freqs('output.C2OH4.2.dat')   "
   ]
  },
  {
   "cell_type": "code",
   "execution_count": null,
   "metadata": {},
   "outputs": [],
   "source": []
  }
 ],
 "metadata": {
  "kernelspec": {
   "display_name": "Python 3",
   "language": "python",
   "name": "python3"
  },
  "language_info": {
   "codemirror_mode": {
    "name": "ipython",
    "version": 3
   },
   "file_extension": ".py",
   "mimetype": "text/x-python",
   "name": "python",
   "nbconvert_exporter": "python",
   "pygments_lexer": "ipython3",
   "version": "3.7.6"
  }
 },
 "nbformat": 4,
 "nbformat_minor": 4
}
