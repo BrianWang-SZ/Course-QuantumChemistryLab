{
 "cells": [
  {
   "cell_type": "markdown",
   "id": "41468c5f",
   "metadata": {},
   "source": [
    "# A gentle introduction to Jupyter notebooks\n",
    "\n",
    "## Code goes in cells\n",
    "\n",
    "Jupyter notebooks contain text and code. The following cell contains code"
   ]
  },
  {
   "cell_type": "code",
   "execution_count": null,
   "id": "20a9a46a",
   "metadata": {},
   "outputs": [],
   "source": [
    "1 + 1"
   ]
  },
  {
   "cell_type": "markdown",
   "id": "1c42f08c",
   "metadata": {},
   "source": [
    "To run the code within a cell, select the cell (it will be surrounded by a green box) and hit `shift + enter` on your keyboard. Try to execute the next lines:"
   ]
  },
  {
   "cell_type": "code",
   "execution_count": null,
   "id": "d6adc21e",
   "metadata": {},
   "outputs": [],
   "source": [
    "7 + 3\n",
    "1 + 2 + 3 + 4 + 5;"
   ]
  },
  {
   "cell_type": "markdown",
   "id": "fa313523",
   "metadata": {},
   "source": [
    "Only the result of the last line was printed out. That's how Jupyter works by default."
   ]
  },
  {
   "cell_type": "markdown",
   "id": "214c3238",
   "metadata": {},
   "source": [
    "## Getting documentation for python functions\n",
    "\n",
    "We will use many python functions. The best way to find out how to do things with python is to ask Google! But if you want to get all the details of a python function you can also use the `help` function. Here we get the docs for the `print` function used to print data"
   ]
  },
  {
   "cell_type": "code",
   "execution_count": null,
   "id": "98155948",
   "metadata": {},
   "outputs": [],
   "source": [
    "help(print)"
   ]
  },
  {
   "cell_type": "code",
   "execution_count": null,
   "id": "4cfb0adc",
   "metadata": {},
   "outputs": [],
   "source": [
    "print(1+2+3)"
   ]
  },
  {
   "cell_type": "markdown",
   "id": "9e312324",
   "metadata": {},
   "source": [
    "## Using terminal line commands in Jupyter\n",
    "To run terminal commands you can start a cell with `!`. Here we list all the files with the unix command `ls`"
   ]
  },
  {
   "cell_type": "code",
   "execution_count": null,
   "id": "5660f8f8",
   "metadata": {},
   "outputs": [],
   "source": [
    "!ls"
   ]
  },
  {
   "cell_type": "markdown",
   "id": "770c1df1",
   "metadata": {},
   "source": [
    "## Printing\n",
    "\n",
    "The function `print` can be used to print data"
   ]
  },
  {
   "cell_type": "code",
   "execution_count": null,
   "id": "11a896a7",
   "metadata": {},
   "outputs": [],
   "source": [
    "print(\"Pythons and boas are the largest snakes in the world.\")"
   ]
  },
  {
   "cell_type": "markdown",
   "id": "dd489753",
   "metadata": {},
   "source": [
    "## Variables and basic types"
   ]
  },
  {
   "cell_type": "code",
   "execution_count": null,
   "id": "7790f045",
   "metadata": {},
   "outputs": [],
   "source": [
    "this_variable = 15\n",
    "print(this_variable)"
   ]
  },
  {
   "cell_type": "code",
   "execution_count": null,
   "id": "7f1b7585",
   "metadata": {},
   "outputs": [],
   "source": [
    "type(this_variable)"
   ]
  },
  {
   "cell_type": "code",
   "execution_count": null,
   "id": "4848a73c",
   "metadata": {},
   "outputs": [],
   "source": [
    "x = 3.1415\n",
    "type(x)"
   ]
  },
  {
   "cell_type": "code",
   "execution_count": null,
   "id": "f4e6858a",
   "metadata": {},
   "outputs": [],
   "source": [
    "x = 'pi'\n",
    "type(x)"
   ]
  },
  {
   "cell_type": "markdown",
   "id": "15b58dd0",
   "metadata": {},
   "source": [
    "There are limitations in the allowed names for variables. For example, no starting with a number"
   ]
  },
  {
   "cell_type": "code",
   "execution_count": null,
   "id": "8e7d6d6a",
   "metadata": {
    "scrolled": true
   },
   "outputs": [],
   "source": [
    "1number = 10"
   ]
  },
  {
   "cell_type": "markdown",
   "id": "e9ec190b",
   "metadata": {},
   "source": [
    "When we try to assign the number 10 to the variable `1number`, we get the infamous `SyntaxError: invalid syntax` message! This means that parts of the code do not follow the syntax of python.\n",
    "\n",
    "When you see a message like this, you will have to go back to the code and try to understand what is causing the problem. Thankfully, python gives us some clues about the location of the error. Unfortunately, it does not explain why what we have done is incorrect."
   ]
  },
  {
   "cell_type": "markdown",
   "id": "cbb8b192",
   "metadata": {},
   "source": [
    "## Basic math"
   ]
  },
  {
   "cell_type": "code",
   "execution_count": null,
   "id": "5fb2c823",
   "metadata": {},
   "outputs": [],
   "source": [
    "3 + 8 # add"
   ]
  },
  {
   "cell_type": "code",
   "execution_count": null,
   "id": "b8164dae",
   "metadata": {},
   "outputs": [],
   "source": [
    "7 - 4 # subtract"
   ]
  },
  {
   "cell_type": "code",
   "execution_count": null,
   "id": "b387f534",
   "metadata": {},
   "outputs": [],
   "source": [
    "7 * 3 # multiply"
   ]
  },
  {
   "cell_type": "code",
   "execution_count": null,
   "id": "ec43d23a",
   "metadata": {},
   "outputs": [],
   "source": [
    "100 / 5 # real division"
   ]
  },
  {
   "cell_type": "code",
   "execution_count": null,
   "id": "e59a34f8",
   "metadata": {},
   "outputs": [],
   "source": [
    "100 // 5 # integer division"
   ]
  },
  {
   "cell_type": "code",
   "execution_count": null,
   "id": "3c14c5cf",
   "metadata": {},
   "outputs": [],
   "source": [
    "2**4 # 2 raised to the fourth power"
   ]
  },
  {
   "cell_type": "code",
   "execution_count": null,
   "id": "8fef8d78",
   "metadata": {},
   "outputs": [],
   "source": [
    "2**0.5 # square root of 2"
   ]
  },
  {
   "cell_type": "code",
   "execution_count": null,
   "id": "4cc00448",
   "metadata": {},
   "outputs": [],
   "source": [
    "21 % 5 # 21 mod 5 (remainder of division)\n",
    "print(21//5)"
   ]
  },
  {
   "cell_type": "markdown",
   "id": "a0c47293",
   "metadata": {},
   "source": [
    "## Code comments\n",
    "Sometimes you might want to leave comments directly in your code. Comments come after the `#` sign"
   ]
  },
  {
   "cell_type": "code",
   "execution_count": null,
   "id": "caed2d5b",
   "metadata": {},
   "outputs": [],
   "source": [
    "x = 5 # initialize x to 5"
   ]
  },
  {
   "cell_type": "markdown",
   "id": "a64de001",
   "metadata": {},
   "source": [
    "## Exercise: Solving a simple algebra problem\n",
    "\n",
    "Consider the following mathematical problem:\n",
    "\n",
    "> How many of the integers $n$ in the range 1 to 1300 are such that $n^2 + 1$ is divisible by 13?\n",
    "\n",
    "The following code loops over all the integers $n$ from 1 to 1300, computes $n^2 + 1$, and checks if this number is divisible by 13. If a number is divisible, then we increment the variable `count`."
   ]
  },
  {
   "cell_type": "code",
   "execution_count": null,
   "id": "d1ae9db5",
   "metadata": {},
   "outputs": [],
   "source": [
    "count = 0 # this will count the n\n",
    "# loop over all integers between 1 and 1300 (included)\n",
    "for n in range(1,1301):\n",
    "    val = n**2 + 1\n",
    "    remainder = val % 13\n",
    "    if remainder == 0:        \n",
    "        count += 1 # increment count by one\n",
    "        \n",
    "print('There are',count,'numbers divisible by 13')"
   ]
  },
  {
   "cell_type": "markdown",
   "id": "5853aadd",
   "metadata": {},
   "source": [
    "## Containers: Lists, tuples, dictionaries\n",
    "\n",
    "An important task in every code is storing data. Python offers several types of data structures."
   ]
  },
  {
   "cell_type": "code",
   "execution_count": null,
   "id": "6714c4e4",
   "metadata": {},
   "outputs": [],
   "source": [
    "# A list\n",
    "l = [1,2,3,4,'dog', 3.1415]\n",
    "\n",
    "# A tuple \n",
    "t = (1,2,3,4,'dog', 3.1415)\n",
    "\n",
    "# A dictionary\n",
    "d = {'student id' : 11010001, 'student grade' : 'A', 'hello' : 'ciao', 'dog' : 'cane', 'cat' : 'gatto'}"
   ]
  },
  {
   "cell_type": "markdown",
   "id": "074d11f8",
   "metadata": {},
   "source": [
    "These serve different purposes and behave differently"
   ]
  },
  {
   "cell_type": "code",
   "execution_count": null,
   "id": "80d88730",
   "metadata": {},
   "outputs": [],
   "source": [
    "# list are quite practical\n",
    "l.append('cat')\n",
    "print(l)"
   ]
  },
  {
   "cell_type": "code",
   "execution_count": null,
   "id": "7f7505fe",
   "metadata": {},
   "outputs": [],
   "source": [
    "# inspect elements\n",
    "l[0], l[2], l[4], l[6]"
   ]
  },
  {
   "cell_type": "code",
   "execution_count": null,
   "id": "bda13901",
   "metadata": {},
   "outputs": [],
   "source": [
    "# tuples cannot be modified\n",
    "t.append('cat')\n",
    "print(t)"
   ]
  },
  {
   "cell_type": "code",
   "execution_count": null,
   "id": "50e9abe7",
   "metadata": {},
   "outputs": [],
   "source": [
    "d['student id']"
   ]
  },
  {
   "cell_type": "code",
   "execution_count": null,
   "id": "2210b3e3",
   "metadata": {},
   "outputs": [],
   "source": [
    "d['dog']"
   ]
  },
  {
   "cell_type": "markdown",
   "id": "e442f0fe",
   "metadata": {},
   "source": [
    "## Functions\n",
    "\n",
    "In python we can easily define new functions. For example let's write a function that takes an integer $n$ and computes $n^2 + 1$. We use the python command `def` to define a function and its arguments. Then we use `return` to return the result"
   ]
  },
  {
   "cell_type": "code",
   "execution_count": null,
   "id": "f9f8f1d7",
   "metadata": {},
   "outputs": [],
   "source": [
    "def f(n):\n",
    "    result = n ** 2 + 1\n",
    "    return result"
   ]
  },
  {
   "cell_type": "markdown",
   "id": "f3c13519",
   "metadata": {},
   "source": [
    "Let's test this function"
   ]
  },
  {
   "cell_type": "code",
   "execution_count": null,
   "id": "43ccd39c",
   "metadata": {},
   "outputs": [],
   "source": [
    "f(3)"
   ]
  },
  {
   "cell_type": "markdown",
   "id": "bc2d0e72",
   "metadata": {},
   "source": [
    "It works also for real numbers"
   ]
  },
  {
   "cell_type": "code",
   "execution_count": null,
   "id": "9edab212",
   "metadata": {},
   "outputs": [],
   "source": [
    "f(3.5)"
   ]
  },
  {
   "cell_type": "markdown",
   "id": "80deb808",
   "metadata": {},
   "source": [
    "but if we pass a string we'll get an error"
   ]
  },
  {
   "cell_type": "code",
   "execution_count": null,
   "id": "0024aa19",
   "metadata": {},
   "outputs": [],
   "source": [
    "f('hello')"
   ]
  },
  {
   "cell_type": "markdown",
   "id": "ea1ec733",
   "metadata": {},
   "source": [
    "## Controlling the flow: loops, if, then, ...\n",
    "\n",
    "Here are some examples of the use of loop, if statements, and other ways to control the flow of a program"
   ]
  },
  {
   "cell_type": "code",
   "execution_count": null,
   "id": "8e954be0",
   "metadata": {},
   "outputs": [],
   "source": [
    "# simple loop"
   ]
  },
  {
   "cell_type": "markdown",
   "id": "e824ad68",
   "metadata": {},
   "source": [
    "## Text cells (Markdown)\n",
    "Jupyter notebook supports two types of cells: code and text. Text cells use the Markdown formatting language. The following are some examples of how to use Markdown. However, there are many comprehensive articles on the web, like [this one](https://towardsdatascience.com/write-markdown-latex-in-the-jupyter-notebook-10985edb91fd).\n",
    "\n",
    "### Plain text and style\n",
    "Plain text renders as it is typed. Text can be rendered in *italics* (surrounding text with a `*` sign, `*italics*`), **bold**  (using a `**`), and `code` style (using a \\` sign).\n",
    "\n",
    "### Mathematical symbols and equations\n",
    "\n",
    "Mathematical symbols can be entered using the LaTeX-style math command inside a `$ $` block, like `$\\sqrt{k}$` = $\\sqrt{k}$, `$\\frac{1}{2}$` = $\\frac{1}{2}$, $\\sum_{k=0}^{\\infty} \\frac{1}{k^2 + 1}$.\n",
    "\n",
    "Long equations are typed inside a `$$ $$` block, for example:\n",
    "$$\n",
    "\\hat{H} \\Psi(\\mathbf{r}) = E \\Psi(\\mathbf{r})\n",
    "$$\n",
    "\n",
    "Here are some useful LaTeX commands:\n",
    "- Fractions, `\\frac{a}{b}` ($\\frac{a}{b}$)\n",
    "- Superscript, `a^{-b}` ($a^{-b}$)\n",
    "- Subscript, `a_{b}` ($a_{b}$)\n",
    "- Bold math font, `\\mathbf{}` ($\\mathbf{r}$)\n",
    "- Square root, `\\sqrt{}` ($\\sqrt{\\pi}$)\n",
    "- Operator sign, `\\hat{}` ($\\hat{H}$)\n",
    "- Dots, `\\cdot, \\cdots` ($\\cdot, \\cdots$)\n",
    "- Greek letters, `\\alpha, \\beta, ..., \\Phi, \\Psi, ...` ($\\alpha, \\beta, ..., \\Phi, \\Psi, ...$)\n",
    "\n",
    "\n",
    "### Code\n",
    "You can insert snippet of code in your text with a triple quote block:\n",
    "\n",
    "```Python\n",
    "str = \"This is block level code\"\n",
    "print(str)\n",
    "```\n",
    "\n",
    "### Headings\n",
    "\n",
    "Text headings start with the hash symbol '#' followed by a space and the text. There are six headings with the largest heading only using one hash symbol and the smallest titles using six hash symbols.\n",
    "\n",
    "# H1\n",
    "## H2\n",
    "### H3\n",
    "#### H4\n"
   ]
  },
  {
   "cell_type": "code",
   "execution_count": null,
   "id": "bcc81f0a",
   "metadata": {},
   "outputs": [],
   "source": []
  }
 ],
 "metadata": {
  "kernelspec": {
   "display_name": "Python 3",
   "language": "python",
   "name": "python3"
  },
  "language_info": {
   "codemirror_mode": {
    "name": "ipython",
    "version": 3
   },
   "file_extension": ".py",
   "mimetype": "text/x-python",
   "name": "python",
   "nbconvert_exporter": "python",
   "pygments_lexer": "ipython3",
   "version": "3.9.4"
  }
 },
 "nbformat": 4,
 "nbformat_minor": 5
}
