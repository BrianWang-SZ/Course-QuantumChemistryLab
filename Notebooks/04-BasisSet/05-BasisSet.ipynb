{
 "cells": [
  {
   "cell_type": "markdown",
   "metadata": {},
   "source": [
    "# Psi4 Tutorial 05: Basis sets\n",
    "\n",
    "In this tutorial you will learn more about basis sets"
   ]
  },
  {
   "cell_type": "code",
   "execution_count": 1,
   "metadata": {},
   "outputs": [],
   "source": [
    "import psi4"
   ]
  },
  {
   "cell_type": "code",
   "execution_count": 2,
   "metadata": {},
   "outputs": [],
   "source": [
    "psi4.set_output_file('output.txt',False)"
   ]
  },
  {
   "cell_type": "code",
   "execution_count": 3,
   "metadata": {},
   "outputs": [],
   "source": [
    "psi4.geometry(\"\"\"\n",
    "H\n",
    "H 1 0.75\n",
    "symmetry c1\n",
    "\"\"\")\n",
    "\n",
    "# print the MO coefficients\n",
    "psi4.set_options({'PRINT_MOS' : True})\n",
    "\n",
    "e,wfn = psi4.energy('SCF/def2-SVP',return_wfn=True)"
   ]
  },
  {
   "cell_type": "code",
   "execution_count": 12,
   "metadata": {},
   "outputs": [],
   "source": [
    "basis = wfn.basisset()"
   ]
  },
  {
   "cell_type": "code",
   "execution_count": 14,
   "metadata": {},
   "outputs": [
    {
     "data": {
      "text/plain": [
       "10"
      ]
     },
     "execution_count": 14,
     "metadata": {},
     "output_type": "execute_result"
    }
   ],
   "source": [
    "basis.nbf()"
   ]
  },
  {
   "cell_type": "code",
   "execution_count": 5,
   "metadata": {},
   "outputs": [
    {
     "name": "stdout",
     "output_type": "stream",
     "text": [
      "\r\n",
      "Scratch directory: /tmp/\r\n",
      "\r\n",
      "Scratch directory: /tmp/\r\n",
      "\r\n",
      "*** tstart() called on CHE-FEVANGE\r\n",
      "*** at Mon Sep 27 15:30:13 2021\r\n",
      "\r\n",
      "   => Loading Basis Set <=\r\n",
      "\r\n",
      "    Name: DEF2-SVP\r\n",
      "    Role: ORBITAL\r\n",
      "    Keyword: BASIS\r\n",
      "    atoms 1-2 entry H          line    15 file /Users/fevange/Source/psi4/objdir-Debug/stage/share/psi4/basis/def2-svp.gbs \r\n",
      "\r\n",
      "\r\n",
      "         ---------------------------------------------------------\r\n",
      "                                   SCF\r\n",
      "               by Justin Turney, Rob Parrish, Andy Simmonett\r\n",
      "                          and Daniel G. A. Smith\r\n",
      "                              RHF Reference\r\n",
      "                        1 Threads,    500 MiB Core\r\n",
      "         ---------------------------------------------------------\r\n",
      "\r\n",
      "  ==> Geometry <==\r\n",
      "\r\n",
      "    Molecular point group: c1\r\n",
      "    Full point group: D_inf_h\r\n",
      "\r\n",
      "    Geometry (in Angstrom), charge = 0, multiplicity = 1:\r\n",
      "\r\n",
      "       Center              X                  Y                   Z               Mass       \r\n",
      "    ------------   -----------------  -----------------  -----------------  -----------------\r\n",
      "         H            0.000000000000     0.000000000000    -0.375000000000     1.007825032230\r\n",
      "         H            0.000000000000     0.000000000000     0.375000000000     1.007825032230\r\n",
      "\r\n",
      "  Running in c1 symmetry.\r\n",
      "\r\n",
      "  Rotational constants: A = ************  B =     59.47286  C =     59.47286 [cm^-1]\r\n",
      "  Rotational constants: A = ************  B = 1782951.48970  C = 1782951.48970 [MHz]\r\n",
      "  Nuclear repulsion =    0.705569614226667\r\n",
      "\r\n",
      "  Charge       = 0\r\n",
      "  Multiplicity = 1\r\n",
      "  Electrons    = 2\r\n",
      "  Nalpha       = 1\r\n",
      "  Nbeta        = 1\r\n",
      "\r\n",
      "  ==> Algorithm <==\r\n",
      "\r\n",
      "  SCF Algorithm Type is DF.\r\n",
      "  DIIS enabled.\r\n",
      "  MOM disabled.\r\n",
      "  Fractional occupation disabled.\r\n",
      "  Guess Type is SAD.\r\n",
      "  Energy threshold   = 1.00e-06\r\n",
      "  Density threshold  = 1.00e-06\r\n",
      "  Integral threshold = 1.00e-12\r\n",
      "\r\n",
      "  ==> Primary Basis <==\r\n",
      "\r\n",
      "  Basis Set: DEF2-SVP\r\n",
      "    Blend: DEF2-SVP\r\n",
      "    Number of shells: 6\r\n",
      "    Number of basis functions: 10\r\n",
      "    Number of Cartesian functions: 10\r\n",
      "    Spherical Harmonics?: true\r\n",
      "    Max angular momentum: 1\r\n",
      "\r\n",
      "   => Loading Basis Set <=\r\n",
      "\r\n",
      "    Name: (DEF2-SVP AUX)\r\n",
      "    Role: JKFIT\r\n",
      "    Keyword: DF_BASIS_SCF\r\n",
      "    atoms 1-2 entry H          line    18 file /Users/fevange/Source/psi4/objdir-Debug/stage/share/psi4/basis/def2-universal-jkfit.gbs \r\n",
      "\r\n",
      "  ==> Integral Setup <==\r\n",
      "\r\n",
      "  DFHelper Memory: AOs need 0.000 GiB; user supplied 0.366 GiB. Using in-core AOs.\r\n",
      "\r\n",
      "  ==> MemDFJK: Density-Fitted J/K Matrices <==\r\n",
      "\r\n",
      "    J tasked:                   Yes\r\n",
      "    K tasked:                   Yes\r\n",
      "    wK tasked:                   No\r\n",
      "    OpenMP threads:               1\r\n",
      "    Memory [MiB]:               375\r\n",
      "    Algorithm:                 Core\r\n",
      "    Schwarz Cutoff:           1E-12\r\n",
      "    Mask sparsity (%):       0.0000\r\n",
      "    Fitting Condition:        1E-10\r\n",
      "\r\n",
      "   => Auxiliary Basis Set <=\r\n",
      "\r\n",
      "  Basis Set: (DEF2-SVP AUX)\r\n",
      "    Blend: DEF2-UNIVERSAL-JKFIT\r\n",
      "    Number of shells: 12\r\n",
      "    Number of basis functions: 36\r\n",
      "    Number of Cartesian functions: 40\r\n",
      "    Spherical Harmonics?: true\r\n",
      "    Max angular momentum: 2\r\n",
      "\r\n",
      "  Minimum eigenvalue in the overlap matrix is 4.9430383481E-02.\r\n",
      "  Reciprocal condition number of the overlap matrix is 1.5970289956E-02.\r\n",
      "    Using symmetric orthogonalization.\r\n",
      "\r\n",
      "  ==> Pre-Iterations <==\r\n",
      "\r\n",
      "  SCF Guess: Superposition of Atomic Densities via on-the-fly atomic UHF (no occupation information).\r\n",
      "\r\n",
      "   -------------------------\r\n",
      "    Irrep   Nso     Nmo    \r\n",
      "   -------------------------\r\n",
      "     A         10      10 \r\n",
      "   -------------------------\r\n",
      "    Total      10      10\r\n",
      "   -------------------------\r\n",
      "\r\n",
      "  ==> Iterations <==\r\n",
      "\r\n",
      "                           Total Energy        Delta E     RMS |[F,P]|\r\n",
      "\r\n",
      "   @DF-RHF iter SAD:    -0.85074378589801   -8.50744e-01   0.00000e+00 \r\n",
      "   @DF-RHF iter   1:    -1.12633242564114   -2.75589e-01   4.81231e-03 DIIS\r\n",
      "   @DF-RHF iter   2:    -1.12885832480037   -2.52590e-03   8.70784e-04 DIIS\r\n",
      "   @DF-RHF iter   3:    -1.12894387219649   -8.55474e-05   3.71603e-05 DIIS\r\n",
      "   @DF-RHF iter   4:    -1.12894394484001   -7.26435e-08   6.69972e-07 DIIS\r\n",
      "  Energy and wave function converged.\r\n",
      "\r\n",
      "\r\n",
      "  ==> Post-Iterations <==\r\n",
      "\r\n",
      "    Orbital Energies [Eh]\r\n",
      "    ---------------------\r\n",
      "\r\n",
      "    Doubly Occupied:                                                      \r\n",
      "\r\n",
      "       1A     -0.589469  \r\n",
      "\r\n",
      "    Virtual:                                                              \r\n",
      "\r\n",
      "       2A      0.195720     3A      0.482015     4A      0.954665  \r\n",
      "       5A      1.420974     6A      1.420974     7A      2.087373  \r\n",
      "       8A      2.215200     9A      2.215200    10A      3.739580  \r\n",
      "\r\n",
      "    Final Occupation by Irrep:\r\n",
      "              A \r\n",
      "    DOCC [     1 ]\r\n",
      "\r\n",
      "  @DF-RHF Final Energy:    -1.12894394484001\r\n",
      "\r\n",
      "   => Energetics <=\r\n",
      "\r\n",
      "    Nuclear Repulsion Energy =              0.7055696142266668\r\n",
      "    One-Electron Energy =                  -2.4900918830430046\r\n",
      "    Two-Electron Energy =                   0.6555783239763316\r\n",
      "    Total Energy =                         -1.1289439448400063\r\n",
      "\r\n",
      "Computation Completed\r\n",
      "\r\n",
      "\r\n",
      "Properties will be evaluated at   0.000000,   0.000000,   0.000000 [a0]\r\n",
      "\r\n",
      "Properties computed using the SCF density matrix\r\n",
      "\r\n",
      "  Nuclear Dipole Moment: [e a0]\r\n",
      "     X:     0.0000      Y:     0.0000      Z:     0.0000\r\n",
      "\r\n",
      "  Electronic Dipole Moment: [e a0]\r\n",
      "     X:     0.0000      Y:     0.0000      Z:    -0.0000\r\n",
      "\r\n",
      "  Dipole Moment: [e a0]\r\n",
      "     X:     0.0000      Y:     0.0000      Z:    -0.0000     Total:     0.0000\r\n",
      "\r\n",
      "  Dipole Moment: [D]\r\n",
      "     X:     0.0000      Y:     0.0000      Z:    -0.0000     Total:     0.0000\r\n",
      "\r\n",
      "\r\n",
      "  ==> Molecular Orbitals <==\r\n",
      "\r\n",
      "                            1            2            3            4            5\r\n",
      "\r\n",
      " 1    H1 s0         0.4034877    0.1449384    0.7040924    0.8728821    0.0000000\r\n",
      " 2    H1 s0         0.1756845    1.9219361   -0.7270797   -1.5827242   -0.0000000\r\n",
      " 3    H1 p0         0.0214187    0.0042600    0.0117829   -0.3296096   -0.0000000\r\n",
      " 4    H1 p+1       -0.0000000   -0.0000000   -0.0000000   -0.0000000   -0.0004075\r\n",
      " 5    H1 p-1        0.0000000    0.0000000   -0.0000000   -0.0000000    0.5876734\r\n",
      " 6    H2 s0         0.4034877   -0.1449384    0.7040924   -0.8728821    0.0000000\r\n",
      " 7    H2 s0         0.1756845   -1.9219361   -0.7270797    1.5827242    0.0000000\r\n",
      " 8    H2 p0        -0.0214187    0.0042600   -0.0117829   -0.3296096    0.0000000\r\n",
      " 9    H2 p+1        0.0000000   -0.0000000    0.0000000   -0.0000000   -0.0004075\r\n",
      " 10   H2 p-1       -0.0000000   -0.0000000    0.0000000   -0.0000000    0.5876734\r\n",
      "\r\n",
      "            Ene    -0.5894693    0.1957203    0.4820146    0.9546651    1.4209743\r\n",
      "            Sym             A            A            A            A            A\r\n",
      "            Occ             2            0            0            0            0\r\n",
      "\r\n",
      "\r\n",
      "                            6            7            8            9           10\r\n",
      "\r\n",
      " 1    H1 s0         0.0000000    0.4136199   -0.0000000   -0.0000000    2.4315550\r\n",
      " 2    H1 s0        -0.0000000   -0.2086053    0.0000000    0.0000000   -0.0702848\r\n",
      " 3    H1 p0        -0.0000000   -0.6963622    0.0000000    0.0000000    1.9440924\r\n",
      " 4    H1 p+1        0.5876734    0.0000000    0.8929591    0.3286846    0.0000000\r\n",
      " 5    H1 p-1        0.0004075    0.0000000   -0.3286846    0.8929591    0.0000000\r\n",
      " 6    H2 s0        -0.0000000    0.4136199   -0.0000000   -0.0000000   -2.4315550\r\n",
      " 7    H2 s0         0.0000000   -0.2086053    0.0000000    0.0000000    0.0702848\r\n",
      " 8    H2 p0        -0.0000000    0.6963622   -0.0000000   -0.0000000    1.9440924\r\n",
      " 9    H2 p+1        0.5876734   -0.0000000   -0.8929591   -0.3286846   -0.0000000\r\n",
      " 10   H2 p-1        0.0004075   -0.0000000    0.3286846   -0.8929591   -0.0000000\r\n",
      "\r\n",
      "            Ene     1.4209743    2.0873728    2.2151995    2.2151995    3.7395803\r\n",
      "            Sym             A            A            A            A            A\r\n",
      "            Occ             0            0            0            0            0\r\n",
      "\r\n",
      "\r\n",
      "\r\n",
      "*** tstop() called on CHE-FEVANGE at Mon Sep 27 15:30:14 2021\r\n",
      "Module time:\r\n",
      "\tuser time   =       0.35 seconds =       0.01 minutes\r\n",
      "\tsystem time =       0.01 seconds =       0.00 minutes\r\n",
      "\ttotal time  =          1 seconds =       0.02 minutes\r\n",
      "Total time:\r\n",
      "\tuser time   =       0.35 seconds =       0.01 minutes\r\n",
      "\tsystem time =       0.01 seconds =       0.00 minutes\r\n",
      "\ttotal time  =          1 seconds =       0.02 minutes\r\n",
      "  -AO BASIS SET INFORMATION:\r\n",
      "    Name                   = DEF2-SVP\r\n",
      "    Blend                  = DEF2-SVP\r\n",
      "    Total number of shells = 6\r\n",
      "    Number of primitives   = 10\r\n",
      "    Number of AO           = 10\r\n",
      "    Number of SO           = 10\r\n",
      "    Maximum AM             = 1\r\n",
      "    Spherical Harmonics    = TRUE\r\n",
      "\r\n",
      "  -Contraction Scheme:\r\n",
      "    Atom   Type   All Primitives // Shells:\r\n",
      "   ------ ------ --------------------------\r\n",
      "       1     H     4s 1p // 2s 1p \r\n",
      "       2     H     4s 1p // 2s 1p \r\n",
      "\r\n",
      "  ==> AO Basis Functions <==\r\n",
      "\r\n",
      "    [ DEF2-SVP ]\r\n",
      "    spherical\r\n",
      "    ****\r\n",
      "    H   1\r\n",
      "    S   3 1.00\r\n",
      "                        13.01070100           0.01968216\r\n",
      "                         1.96225720           0.13796524\r\n",
      "                         0.44453796           0.47831935\r\n",
      "    S   1 1.00\r\n",
      "                         0.12194962           1.00000000\r\n",
      "    P   1 1.00\r\n",
      "                         0.80000000           1.00000000\r\n",
      "    ****\r\n",
      "    H   2\r\n",
      "    S   3 1.00\r\n",
      "                        13.01070100           0.01968216\r\n",
      "                         1.96225720           0.13796524\r\n",
      "                         0.44453796           0.47831935\r\n",
      "    S   1 1.00\r\n",
      "                         0.12194962           1.00000000\r\n",
      "    P   1 1.00\r\n",
      "                         0.80000000           1.00000000\r\n",
      "    ****\r\n",
      "\r\n"
     ]
    }
   ],
   "source": [
    "!cat output.txt"
   ]
  },
  {
   "cell_type": "code",
   "execution_count": 6,
   "metadata": {},
   "outputs": [],
   "source": [
    "psi4.set_options({'CUBEPROP_TASKS' : ['BASIS_FUNCTIONS','ORBITALS']})\n",
    "psi4.cubeprop(wfn)"
   ]
  },
  {
   "cell_type": "code",
   "execution_count": 7,
   "metadata": {},
   "outputs": [
    {
     "name": "stdout",
     "output_type": "stream",
     "text": [
      "CubeViewer: listing cube files from the directory .\n",
      "Reading 30 cube files\n"
     ]
    },
    {
     "name": "stderr",
     "output_type": "stream",
     "text": [
      "/Users/fevange/Source/fortecubeview/fortecubeview/py3js_renderer.py:1096: FutureWarning: marching_cubes_lewiner is deprecated in favor of marching_cubes. marching_cubes_lewiner will be removed in version 0.19\n",
      "  values = skimage.measure.marching_cubes_lewiner(data, level * 0.995)\n"
     ]
    },
    {
     "data": {
      "application/vnd.jupyter.widget-view+json": {
       "model_id": "732a8f0d1f574a79a918df6fadce85f9",
       "version_major": 2,
       "version_minor": 0
      },
      "text/plain": [
       "VBox(children=(HTML(value=''), Renderer(camera=OrthographicCamera(bottom=-5.0, children=(DirectionalLight(colo…"
      ]
     },
     "metadata": {},
     "output_type": "display_data"
    },
    {
     "data": {
      "application/vnd.jupyter.widget-view+json": {
       "model_id": "caa9929031a24a29a8f162aa40589e27",
       "version_major": 2,
       "version_minor": 0
      },
      "text/plain": [
       "HTML(value='\\n        <style>\\n           .jupyter-widgets-output-area .output_scroll {\\n                heigh…"
      ]
     },
     "metadata": {},
     "output_type": "display_data"
    },
    {
     "data": {
      "application/vnd.jupyter.widget-view+json": {
       "model_id": "f192e61b432b4e2b9d664035a1736069",
       "version_major": 2,
       "version_minor": 0
      },
      "text/plain": [
       "interactive(children=(Select(description='Cube files:', options=('./Phi_1.cube', './Phi_10.cube', './Phi_2.cub…"
      ]
     },
     "metadata": {},
     "output_type": "display_data"
    },
    {
     "data": {
      "text/plain": [
       "<fortecubeview.cube_viewer.CubeViewer at 0x7fcd56b5dca0>"
      ]
     },
     "execution_count": 7,
     "metadata": {},
     "output_type": "execute_result"
    }
   ],
   "source": [
    "import fortecubeview\n",
    "fortecubeview.plot()"
   ]
  },
  {
   "cell_type": "code",
   "execution_count": 8,
   "metadata": {},
   "outputs": [
    {
     "data": {
      "text/plain": [
       "-0.49997864885235693"
      ]
     },
     "execution_count": 8,
     "metadata": {},
     "output_type": "execute_result"
    }
   ],
   "source": [
    "psi4.geometry(\"\"\"\n",
    "0 2\n",
    "H\n",
    "symmetry c1\n",
    "\"\"\")\n",
    "\n",
    "psi4.set_options({'PRINT_MOS' : True,'REFERENCE' : 'ROHF'})\n",
    "\n",
    "psi4.energy('SCF/cc-pv[tq]z')"
   ]
  },
  {
   "cell_type": "code",
   "execution_count": 9,
   "metadata": {},
   "outputs": [
    {
     "data": {
      "text/plain": [
       "-0.4992784034195828"
      ]
     },
     "execution_count": 9,
     "metadata": {},
     "output_type": "execute_result"
    }
   ],
   "source": [
    "psi4.geometry(\"\"\"\n",
    "0 2\n",
    "H\n",
    "symmetry c1\n",
    "\"\"\")\n",
    "\n",
    "psi4.set_options({'PRINT_MOS' : True,'REFERENCE' : 'ROHF'})\n",
    "\n",
    "psi4.energy('SCF/cc-pvdz')"
   ]
  },
  {
   "cell_type": "code",
   "execution_count": 11,
   "metadata": {},
   "outputs": [
    {
     "data": {
      "text/plain": [
       "-0.49994556858298794"
      ]
     },
     "execution_count": 11,
     "metadata": {},
     "output_type": "execute_result"
    }
   ],
   "source": [
    "psi4.geometry(\"\"\"\n",
    "0 2\n",
    "H\n",
    "symmetry c1\n",
    "\"\"\")\n",
    "\n",
    "psi4.set_options({'PRINT_MOS' : True,'REFERENCE' : 'ROHF'})\n",
    "\n",
    "psi4.energy('SCF/cc-pvqz')"
   ]
  },
  {
   "cell_type": "code",
   "execution_count": null,
   "metadata": {},
   "outputs": [],
   "source": []
  }
 ],
 "metadata": {
  "kernelspec": {
   "display_name": "Python 3",
   "language": "python",
   "name": "python3"
  },
  "language_info": {
   "codemirror_mode": {
    "name": "ipython",
    "version": 3
   },
   "file_extension": ".py",
   "mimetype": "text/x-python",
   "name": "python",
   "nbconvert_exporter": "python",
   "pygments_lexer": "ipython3",
   "version": "3.9.4"
  }
 },
 "nbformat": 4,
 "nbformat_minor": 4
}
