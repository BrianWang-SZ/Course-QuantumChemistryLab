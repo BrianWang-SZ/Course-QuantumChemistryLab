{
 "cells": [
  {
   "cell_type": "markdown",
   "metadata": {},
   "source": [
    "# Tutorial 06: Open shells\n",
    "\n",
    "In this tutorial you will learn:\n",
    "- Examing the difference between restricted and unrestricted computations\n",
    "- Learn how  psi4 handles open-shell species"
   ]
  },
  {
   "cell_type": "code",
   "execution_count": 1,
   "metadata": {},
   "outputs": [],
   "source": [
    "import psi4"
   ]
  },
  {
   "cell_type": "markdown",
   "metadata": {},
   "source": [
    "When doing Hartree–Fock or DFT computations on closed-shell species (even number of electrons, all paired) **psi4 automatically selectes a restricted formalism**. This means that the spatial part of alpha and beta orbitals is the same\n",
    "$$\n",
    "\\phi_{i\\alpha}(\\mathbf{r}) = \\phi_{i\\beta}(\\mathbf{r})\n",
    "$$\n",
    "and the orbital energies are the same\n",
    "$$\n",
    "\\epsilon_{i\\alpha} = \\epsilon_{i\\beta}\n",
    "$$\n",
    "\n",
    "Let's look how this restriction is reflected in a simple example:"
   ]
  },
  {
   "cell_type": "code",
   "execution_count": 2,
   "metadata": {},
   "outputs": [],
   "source": [
    "psi4.geometry(f\"\"\"\n",
    "H\n",
    "F 1 1.0\n",
    "symmetry c1\n",
    "\"\"\")\n",
    "\n",
    "e, wfn = psi4.energy('SCF/def2-SVP',return_wfn=True)"
   ]
  },
  {
   "cell_type": "markdown",
   "metadata": {},
   "source": [
    "For closed-shell specied, a restricted formalism give the identical alpha and beta orbital energies"
   ]
  },
  {
   "cell_type": "code",
   "execution_count": 4,
   "metadata": {},
   "outputs": [
    {
     "name": "stdout",
     "output_type": "stream",
     "text": [
      "epsilon_a =  [-26.26971571  -1.53019894  -0.71818034  -0.62651052  -0.62651052\n",
      "   0.15830265   0.73941872   1.41561931   1.41561931   1.43621331\n",
      "   1.65591555   1.71388604   1.71388604   2.41789009   3.48489998\n",
      "   3.48489998   3.7312377    3.7312377    4.55627241]\n",
      "epsilon_b =  [-26.26971571  -1.53019894  -0.71818034  -0.62651052  -0.62651052\n",
      "   0.15830265   0.73941872   1.41561931   1.41561931   1.43621331\n",
      "   1.65591555   1.71388604   1.71388604   2.41789009   3.48489998\n",
      "   3.48489998   3.7312377    3.7312377    4.55627241]\n",
      "epsilon_a - epsilon_b =  [0. 0. 0. 0. 0. 0. 0. 0. 0. 0. 0. 0. 0. 0. 0. 0. 0. 0. 0.]\n"
     ]
    }
   ],
   "source": [
    "print('epsilon_a = ',wfn.epsilon_a().to_array()) # alpha orbital energies\n",
    "print('epsilon_b = ',wfn.epsilon_b().to_array()) # beta orbital energies\n",
    "print('epsilon_a - epsilon_b = ',wfn.epsilon_a().to_array() - wfn.epsilon_b().to_array()) # alpha-beta orbital energy difference"
   ]
  },
  {
   "cell_type": "markdown",
   "metadata": {},
   "source": [
    "Recall that the molecular orbitals are a linear combination of the atomic orbital basis ($\\chi_\\mu$) times a coefficient matrix ($C_{\\mu i}$).\n",
    "Here we write both the alpha and beta components explicitly\n",
    "$$\n",
    "\\phi_{i\\alpha}(\\mathbf{r}) = \\sum_\\mu^{\\mathrm{basis}} \\chi_\\mu(\\mathbf{r}) C_{\\mu i}^{\\alpha}\n",
    "$$\n",
    "$$\n",
    "\\phi_{i\\beta}(\\mathbf{r}) = \\sum_\\mu^{\\mathrm{basis}} \\chi_\\mu(\\mathbf{r}) C_{\\mu i}^{\\beta}\n",
    "$$\n",
    "\n",
    "For a closed-shell molecule, we can easily verify that $C_{\\mu i}^{\\alpha}$ and $C_{\\mu i}^{\\beta}$ are identical since their difference is a matrix of zeros:"
   ]
  },
  {
   "cell_type": "code",
   "execution_count": 6,
   "metadata": {},
   "outputs": [
    {
     "name": "stdout",
     "output_type": "stream",
     "text": [
      "[[0. 0. 0. 0. 0. 0. 0. 0. 0. 0. 0. 0. 0. 0. 0. 0. 0. 0. 0.]\n",
      " [0. 0. 0. 0. 0. 0. 0. 0. 0. 0. 0. 0. 0. 0. 0. 0. 0. 0. 0.]\n",
      " [0. 0. 0. 0. 0. 0. 0. 0. 0. 0. 0. 0. 0. 0. 0. 0. 0. 0. 0.]\n",
      " [0. 0. 0. 0. 0. 0. 0. 0. 0. 0. 0. 0. 0. 0. 0. 0. 0. 0. 0.]\n",
      " [0. 0. 0. 0. 0. 0. 0. 0. 0. 0. 0. 0. 0. 0. 0. 0. 0. 0. 0.]\n",
      " [0. 0. 0. 0. 0. 0. 0. 0. 0. 0. 0. 0. 0. 0. 0. 0. 0. 0. 0.]\n",
      " [0. 0. 0. 0. 0. 0. 0. 0. 0. 0. 0. 0. 0. 0. 0. 0. 0. 0. 0.]\n",
      " [0. 0. 0. 0. 0. 0. 0. 0. 0. 0. 0. 0. 0. 0. 0. 0. 0. 0. 0.]\n",
      " [0. 0. 0. 0. 0. 0. 0. 0. 0. 0. 0. 0. 0. 0. 0. 0. 0. 0. 0.]\n",
      " [0. 0. 0. 0. 0. 0. 0. 0. 0. 0. 0. 0. 0. 0. 0. 0. 0. 0. 0.]\n",
      " [0. 0. 0. 0. 0. 0. 0. 0. 0. 0. 0. 0. 0. 0. 0. 0. 0. 0. 0.]\n",
      " [0. 0. 0. 0. 0. 0. 0. 0. 0. 0. 0. 0. 0. 0. 0. 0. 0. 0. 0.]\n",
      " [0. 0. 0. 0. 0. 0. 0. 0. 0. 0. 0. 0. 0. 0. 0. 0. 0. 0. 0.]\n",
      " [0. 0. 0. 0. 0. 0. 0. 0. 0. 0. 0. 0. 0. 0. 0. 0. 0. 0. 0.]\n",
      " [0. 0. 0. 0. 0. 0. 0. 0. 0. 0. 0. 0. 0. 0. 0. 0. 0. 0. 0.]\n",
      " [0. 0. 0. 0. 0. 0. 0. 0. 0. 0. 0. 0. 0. 0. 0. 0. 0. 0. 0.]\n",
      " [0. 0. 0. 0. 0. 0. 0. 0. 0. 0. 0. 0. 0. 0. 0. 0. 0. 0. 0.]\n",
      " [0. 0. 0. 0. 0. 0. 0. 0. 0. 0. 0. 0. 0. 0. 0. 0. 0. 0. 0.]\n",
      " [0. 0. 0. 0. 0. 0. 0. 0. 0. 0. 0. 0. 0. 0. 0. 0. 0. 0. 0.]]\n"
     ]
    }
   ],
   "source": [
    "print(wfn.Ca().to_array() - wfn.Cb().to_array()) # alpha orbital energies"
   ]
  },
  {
   "cell_type": "markdown",
   "metadata": {},
   "source": [
    "## Simple open shells\n",
    "\n",
    "Suppose that we are now interested in studying the H$_2^+$ molecule. This system has one unpaired electron, which implies that the spin of the H$_2^+$ molecule is nonzero.\n",
    "A single electron is characterized by two quantum numbers:\n",
    "- The total spin quantum number $s = 1/2$ (corresponding to the operator $\\hat{S}^2$), which tells us that the average total spin squared is \n",
    "$$\n",
    "S^2 = s(s+1) = \\frac{3}{4}\n",
    "$$\n",
    "- The z component of spin quantum number $m_s =$ for which we have two possible choices\n",
    "$$\n",
    "m_s = +\\frac{1}{2} \\equiv \\alpha \\text{   or   } -\\frac{1}{2}  \\equiv \\beta.\n",
    "$$\n",
    "The average value of the spin projected on the z axis is\n",
    "$$\n",
    "S_z = m_s\n",
    "$$\n",
    "\n",
    "Since there are two possible states for the spin of the electron, we say that this system has **multiplicity equal to 2**. Another way to compute the multiplicity is via the equation\n",
    "$$\n",
    "\\text{multiplicity } = 2s + 1\n",
    "$$\n",
    "Let's now try to compute the Hartree–Fock energy of H$_2^+$ with psi4"
   ]
  },
  {
   "cell_type": "markdown",
   "metadata": {},
   "source": [
    "## Restricted vs. unrestricted methods\n",
    "\n",
    "There are two ways to perform computations on open shell systems like H$_2^+$. In every computation we need to specify one.\n",
    "\n",
    "1. using a restricted formalism that enforces the condition\n",
    "$$\n",
    "\\phi_{i\\alpha}(\\mathbf{r}) = \\phi_{i\\beta}(\\mathbf{r})\n",
    "$$\n",
    "for all doubly occupied orbitals.\n",
    "1. using an unrestricted formalism in which we let alpha and beta orbitals have different spatial part\n",
    "$$\n",
    "\\phi_{i\\alpha}(\\mathbf{r}) \\neq \\phi_{i\\beta}(\\mathbf{r})\n",
    "$$\n",
    "for both doubly and singly occupied orbitals.\n",
    "\n",
    "\n",
    "Note that **for a single electron, these two approaches give the same energy**.\n",
    "\n",
    "To perform a restricted Hartree–Fock computation you neet to set the option `REFERENCE` to `ROHF`."
   ]
  },
  {
   "cell_type": "code",
   "execution_count": 7,
   "metadata": {},
   "outputs": [],
   "source": [
    "psi4.geometry(\"\"\"\n",
    "1 2\n",
    "H\n",
    "H 1 1.0\n",
    "symmetry c1\n",
    "\"\"\")\n",
    "\n",
    "psi4.set_options({'REFERENCE' : 'ROHF'})\n",
    "\n",
    "\n",
    "e, wfn = psi4.energy('HF/def2-SVP',return_wfn=True)"
   ]
  },
  {
   "cell_type": "markdown",
   "metadata": {},
   "source": [
    "Now let us check the orbital energies. In the case of ROHF these might be defined differently by different programs because there is not a unique way to define them. Psi4 yields equal energies for the alpha and beta orbitals"
   ]
  },
  {
   "cell_type": "code",
   "execution_count": 8,
   "metadata": {},
   "outputs": [
    {
     "name": "stdout",
     "output_type": "stream",
     "text": [
      "[-0.78975315 -0.21148354  0.14907738  0.3768626   0.9197362   0.9197362\n",
      "  1.26681617  1.52228616  1.52228616  2.41856805]\n",
      "[-0.78975315 -0.21148354  0.14907738  0.3768626   0.9197362   0.9197362\n",
      "  1.26681617  1.52228616  1.52228616  2.41856805]\n",
      "[[0. 0. 0. 0. 0. 0. 0. 0. 0. 0.]\n",
      " [0. 0. 0. 0. 0. 0. 0. 0. 0. 0.]\n",
      " [0. 0. 0. 0. 0. 0. 0. 0. 0. 0.]\n",
      " [0. 0. 0. 0. 0. 0. 0. 0. 0. 0.]\n",
      " [0. 0. 0. 0. 0. 0. 0. 0. 0. 0.]\n",
      " [0. 0. 0. 0. 0. 0. 0. 0. 0. 0.]\n",
      " [0. 0. 0. 0. 0. 0. 0. 0. 0. 0.]\n",
      " [0. 0. 0. 0. 0. 0. 0. 0. 0. 0.]\n",
      " [0. 0. 0. 0. 0. 0. 0. 0. 0. 0.]\n",
      " [0. 0. 0. 0. 0. 0. 0. 0. 0. 0.]]\n"
     ]
    }
   ],
   "source": [
    "print(wfn.epsilon_a().to_array()) # alpha orbital energies\n",
    "print(wfn.epsilon_b().to_array()) # beta orbital energies\n",
    "print(wfn.Ca().to_array() - wfn.Cb().to_array()) # alpha orbital energies"
   ]
  },
  {
   "cell_type": "markdown",
   "metadata": {},
   "source": [
    "An unrestricted HF computation can be done by setting the option `REFERENCE` to `UHF`."
   ]
  },
  {
   "cell_type": "code",
   "execution_count": 10,
   "metadata": {},
   "outputs": [
    {
     "name": "stdout",
     "output_type": "stream",
     "text": [
      "epsilon_a =  [-1.12873752 -0.26617959  0.11742833  0.32905274  0.8639872   0.8639872\n",
      "  1.22168315  1.49209801  1.49209801  2.38879522]\n",
      "epsilon_b =  [-0.48162337 -0.1639748   0.20884091  0.43134234  0.9754852   0.9754852\n",
      "  1.31468928  1.5524743   1.5524743   2.44885832]\n",
      "[[ 1.40252310e-01  1.55979114e-01 -9.99105248e-02 -3.83549331e-02\n",
      "   1.96368803e-16  8.43556234e-16  4.02715690e-02  2.47873971e-16\n",
      "   4.46555225e-16 -2.24139914e-02]\n",
      " [-1.46125674e-01 -2.48640760e-01 -3.08771807e-02 -1.67954233e-01\n",
      "  -3.18954051e-16 -2.72457127e-15 -2.02179763e-02  1.21182770e-16\n",
      "   3.70287162e-17  2.17745832e-02]\n",
      " [ 3.41360063e-02 -6.69118285e-03  1.57054777e-02  2.91359101e-02\n",
      "  -6.06865132e-17 -6.62346542e-16  3.35519185e-03  6.35101656e-17\n",
      "  -2.88063896e-17  2.63603858e-03]\n",
      " [-1.21398302e-16  1.74612923e-16 -3.55781986e-16 -9.67530902e-16\n",
      "  -4.54468900e-02  3.73403306e-03 -3.17225406e-16 -3.08103377e-02\n",
      "   2.12103091e-03 -3.14403872e-16]\n",
      " [ 9.31786217e-17  2.29730432e-16  1.47667674e-17 -6.45800283e-17\n",
      "   3.73403306e-03  4.54468900e-02 -5.34666201e-17 -2.12103091e-03\n",
      "  -3.08103377e-02 -1.21865645e-17]\n",
      " [ 1.40252310e-01 -1.55979114e-01 -9.99105248e-02  3.83549331e-02\n",
      "   5.55079149e-17 -1.21337548e-15  4.02715690e-02 -5.38906043e-17\n",
      "  -2.04283534e-16  2.24139914e-02]\n",
      " [-1.46125674e-01  2.48640760e-01 -3.08771807e-02  1.67954233e-01\n",
      "   2.12745946e-16  2.89783462e-15 -2.02179763e-02 -1.24124507e-16\n",
      "  -1.39331577e-16 -2.17745832e-02]\n",
      " [-3.41360063e-02 -6.69118285e-03 -1.57054777e-02  2.91359101e-02\n",
      "  -1.50674534e-17 -1.79972701e-16 -3.35519185e-03  1.41449398e-16\n",
      "   2.76045205e-16  2.63603858e-03]\n",
      " [ 8.15213624e-17  1.60474115e-16  3.56150942e-16 -7.82204991e-16\n",
      "  -4.54468900e-02  3.73403306e-03  8.59582409e-18  3.08103377e-02\n",
      "  -2.12103091e-03  4.77613902e-16]\n",
      " [-1.12032692e-16 -2.44575323e-16 -8.10968877e-17  3.76811217e-17\n",
      "   3.73403306e-03  4.54468900e-02 -2.78565002e-17  2.12103091e-03\n",
      "   3.08103377e-02  4.59183801e-17]]\n"
     ]
    }
   ],
   "source": [
    "psi4.geometry(\"\"\"\n",
    "1 2\n",
    "H\n",
    "H 1 1.0\n",
    "symmetry c1\n",
    "\"\"\")\n",
    "\n",
    "psi4.set_options({'REFERENCE' : 'UHF'})\n",
    "\n",
    "e, wfn = psi4.energy('HF/def2-SVP',return_wfn=True)\n",
    "print('epsilon_a = ', wfn.epsilon_a().to_array()) # alpha orbital energies\n",
    "print('epsilon_b = ', wfn.epsilon_b().to_array()) # beta orbital energies\n",
    "print(wfn.Ca().to_array() - wfn.Cb().to_array()) # alpha orbital energies"
   ]
  },
  {
   "cell_type": "markdown",
   "metadata": {},
   "source": [
    "Note that the energies of the alpha and beta electrons are different. In the unrestricted case the alpha and beta orbitals are different and we can see this if we plot them."
   ]
  },
  {
   "cell_type": "markdown",
   "metadata": {},
   "source": [
    "The following example shows the difference in the UHF orbitals of LiH+"
   ]
  },
  {
   "cell_type": "code",
   "execution_count": 11,
   "metadata": {},
   "outputs": [
    {
     "name": "stdout",
     "output_type": "stream",
     "text": [
      "CubeViewer: listing cube files from the directory .\n",
      "Reading 28 cube files\n"
     ]
    },
    {
     "name": "stderr",
     "output_type": "stream",
     "text": [
      "/Users/fevange/Source/fortecubeview/fortecubeview/py3js_renderer.py:1096: FutureWarning: marching_cubes_lewiner is deprecated in favor of marching_cubes. marching_cubes_lewiner will be removed in version 0.19\n",
      "  values = skimage.measure.marching_cubes_lewiner(data, level * 0.995)\n"
     ]
    },
    {
     "data": {
      "application/vnd.jupyter.widget-view+json": {
       "model_id": "16df493fb51a42e393dcff5916a1eefd",
       "version_major": 2,
       "version_minor": 0
      },
      "text/plain": [
       "VBox(children=(HTML(value=''), Renderer(camera=OrthographicCamera(bottom=-5.0, children=(DirectionalLight(colo…"
      ]
     },
     "metadata": {},
     "output_type": "display_data"
    },
    {
     "data": {
      "application/vnd.jupyter.widget-view+json": {
       "model_id": "4feddb57020a4eea85dc431f83ce357f",
       "version_major": 2,
       "version_minor": 0
      },
      "text/plain": [
       "HTML(value='\\n        <style>\\n           .jupyter-widgets-output-area .output_scroll {\\n                heigh…"
      ]
     },
     "metadata": {},
     "output_type": "display_data"
    },
    {
     "data": {
      "application/vnd.jupyter.widget-view+json": {
       "model_id": "9cc8e8f4c86448738c88e168ddfa1607",
       "version_major": 2,
       "version_minor": 0
      },
      "text/plain": [
       "interactive(children=(Select(description='Cube files:', options=('MO    1a (1-A)', 'MO    1b (1-A)', 'MO    2a…"
      ]
     },
     "metadata": {},
     "output_type": "display_data"
    },
    {
     "data": {
      "text/plain": [
       "<fortecubeview.cube_viewer.CubeViewer at 0x7ffdffbb70d0>"
      ]
     },
     "execution_count": 11,
     "metadata": {},
     "output_type": "execute_result"
    }
   ],
   "source": [
    "psi4.geometry(\"\"\"\n",
    "1 2\n",
    "Li\n",
    "H 1 1.0\n",
    "symmetry c1\n",
    "\"\"\")\n",
    "\n",
    "psi4.set_options({'REFERENCE' : 'UHF'})\n",
    "e, wfn = psi4.energy('HF/def2-SVP',return_wfn=True)\n",
    "\n",
    "psi4.cubeprop(wfn)\n",
    "\n",
    "import fortecubeview\n",
    "fortecubeview.plot()"
   ]
  },
  {
   "cell_type": "markdown",
   "metadata": {},
   "source": [
    "Note that **in UHF the orbitals may be different but this is not always the case**. For example, if you apply UHF to a closed shell system then often you recover the RHF solution. For example"
   ]
  },
  {
   "cell_type": "code",
   "execution_count": null,
   "metadata": {},
   "outputs": [],
   "source": [
    "psi4.geometry(\"\"\"\n",
    "0 1\n",
    "H\n",
    "F 1 1.0\n",
    "symmetry c1\n",
    "\"\"\")\n",
    "\n",
    "psi4.set_options({'REFERENCE' : 'UHF'})\n",
    "e_uhf = psi4.energy('HF/def2-SVP')\n",
    "\n",
    "psi4.set_options({'REFERENCE' : 'RHF'})\n",
    "e_rhf = psi4.energy('HF/def2-SVP')\n",
    "\n",
    "print(f'The difference between the RHF and UHF energy is {e_rhf - e_uhf}')"
   ]
  },
  {
   "cell_type": "markdown",
   "metadata": {},
   "source": [
    "## General case\n",
    "\n",
    "When we have more than one electron, we use capital letters to refer to the sum of the angular momentum of all electrons. The quantum number $M_S$ is the sum of the z component of spin for all the electrons, which is given by the difference between the number of alpha and beta electrons divided by 2\n",
    "$$\n",
    "M_S = \\frac{1}{2} (N_\\alpha - N_\\beta)\n",
    "$$\n",
    "\n",
    "An important result in the theory of angular momentum is that a system with total spin equal to $S$ has multiplicity = $2S + 1$, which means that there are $2S + 1$ states with the same total spin. These states have z-projection of spin that ranges from $-S$ to $S$ in increments of 1\n",
    "$$\n",
    "-S, -S + 1, -S + 2, \\ldots, S - 2, S-1, S\n",
    "$$\n",
    "\n",
    "Now consider the case of HF$^+$. This molecule has 5 alpha and 4 beta electrons (or the other way around).\n",
    "For HF$^+$ has $M_S = 1/2$ which comes from the 5 alpha and 4 beta electrons ((5 - 4)/2).\n",
    "\n",
    "For HF$^+$ this means that the state with one unpaired alpha electron corresponds to $S = 1/2$. If it was otherwise things would not work out. For example, if $S = 1$ then we should find state with \n",
    "$$\n",
    "M_S = -1, 0, +1\n",
    "$$\n",
    "but we know that with one unpaired electron we need to have a state with $M_S = 1/2$.\n",
    "If we postulated that $S = 3/2$ then we should be able to find states with\n",
    "$$\n",
    "M_S = -3/2, -1/2, 1/2 , 3/2\n",
    "$$\n",
    "However, with only one unpaired electron we cannot have a state with $M_S = 3/2$.\n",
    "\n",
    "To summarize, the HF$^+$ molecule has multiplicity equal to $2S + 1 = 2 1/2 + 1 = 2$."
   ]
  },
  {
   "cell_type": "markdown",
   "metadata": {},
   "source": [
    "## Spin contamination of unrestricted wave functions\n",
    "\n",
    "ROHF and UHF generally yield different energies"
   ]
  },
  {
   "cell_type": "code",
   "execution_count": null,
   "metadata": {},
   "outputs": [],
   "source": [
    "psi4.geometry(\"\"\"\n",
    "1 2\n",
    "H\n",
    "F 1 1.0\n",
    "symmetry c1\n",
    "\"\"\")\n",
    "\n",
    "psi4.set_options({'REFERENCE' : 'ROHF'})\n",
    "e_rohf = psi4.energy('HF/def2-SVP')\n",
    "\n",
    "psi4.set_output_file('uhf.txt',False)\n",
    "\n",
    "psi4.set_options({'REFERENCE' : 'UHF'})\n",
    "e_uhf = psi4.energy('HF/def2-SVP')\n",
    "\n",
    "print(f'E(ROHF) = {e_rohf} Eh')\n",
    "print(f'E(UHF)  = {e_uhf}  Eh')\n",
    "print(f'The difference between the ROHF and UHF energy is {e_rohf - e_uhf}')"
   ]
  },
  {
   "cell_type": "markdown",
   "metadata": {},
   "source": [
    "Why is there an energy difference between the ROHF and UHF? And why is UHF the lower solution? Let's check the output"
   ]
  },
  {
   "cell_type": "code",
   "execution_count": null,
   "metadata": {},
   "outputs": [],
   "source": [
    "with open('uhf.txt') as f:\n",
    "    print(''.join(f.readlines()[130:]))"
   ]
  },
  {
   "cell_type": "markdown",
   "metadata": {},
   "source": [
    "## Spin density of methylene computed with DFT"
   ]
  },
  {
   "cell_type": "code",
   "execution_count": 12,
   "metadata": {},
   "outputs": [
    {
     "name": "stdout",
     "output_type": "stream",
     "text": [
      "Optimizer: Optimization complete!\n"
     ]
    }
   ],
   "source": [
    "import psi4 \n",
    "psi4.geometry(f\"\"\"\n",
    "0 3\n",
    "C\n",
    "H 1 1.0\n",
    "H 1 1.0 2 104.5\n",
    "symmetry c1\n",
    "\"\"\")\n",
    "\n",
    "psi4.set_options({'REFERENCE' : 'UKS'})\n",
    "e, wfn = psi4.optimize('B3LYP/def2-SVP',return_wfn=True)"
   ]
  },
  {
   "cell_type": "code",
   "execution_count": 13,
   "metadata": {},
   "outputs": [
    {
     "name": "stdout",
     "output_type": "stream",
     "text": [
      "mkdir: ch2: File exists\r\n"
     ]
    }
   ],
   "source": [
    "!mkdir ch2\n",
    "psi4.set_options({'CUBEPROP_FILEPATH' : './ch2','CUBEPROP_TASKS' : ['DENSITY']})\n",
    "psi4.cubeprop(wfn)"
   ]
  },
  {
   "cell_type": "code",
   "execution_count": 14,
   "metadata": {},
   "outputs": [
    {
     "name": "stdout",
     "output_type": "stream",
     "text": [
      "Da.cube  Db.cube  Ds.cube  Dt.cube  geom.xyz\n",
      "CubeViewer: listing cube files from the directory ./ch2\n",
      "Reading 4 cube files\n"
     ]
    },
    {
     "name": "stderr",
     "output_type": "stream",
     "text": [
      "/Users/fevange/Source/fortecubeview/fortecubeview/py3js_renderer.py:1096: FutureWarning: marching_cubes_lewiner is deprecated in favor of marching_cubes. marching_cubes_lewiner will be removed in version 0.19\n",
      "  values = skimage.measure.marching_cubes_lewiner(data, level * 0.995)\n"
     ]
    },
    {
     "data": {
      "application/vnd.jupyter.widget-view+json": {
       "model_id": "8014da37a81b44a6905e283f8215d509",
       "version_major": 2,
       "version_minor": 0
      },
      "text/plain": [
       "VBox(children=(HTML(value=''), Renderer(camera=OrthographicCamera(bottom=-5.0, children=(DirectionalLight(colo…"
      ]
     },
     "metadata": {},
     "output_type": "display_data"
    },
    {
     "data": {
      "application/vnd.jupyter.widget-view+json": {
       "model_id": "ece48c36e1474116a21a999627185d8b",
       "version_major": 2,
       "version_minor": 0
      },
      "text/plain": [
       "HTML(value='\\n        <style>\\n           .jupyter-widgets-output-area .output_scroll {\\n                heigh…"
      ]
     },
     "metadata": {},
     "output_type": "display_data"
    },
    {
     "data": {
      "application/vnd.jupyter.widget-view+json": {
       "model_id": "c7762a6aac7a451398b4a3bfae71e09a",
       "version_major": 2,
       "version_minor": 0
      },
      "text/plain": [
       "interactive(children=(Select(description='Cube files:', options=('Density (alpha)', 'Density (beta)', 'Density…"
      ]
     },
     "metadata": {},
     "output_type": "display_data"
    },
    {
     "data": {
      "text/plain": [
       "<fortecubeview.cube_viewer.CubeViewer at 0x7ffdffbbe460>"
      ]
     },
     "execution_count": 14,
     "metadata": {},
     "output_type": "execute_result"
    }
   ],
   "source": [
    "!ls ch2\n",
    "# !rm ch2/Ps*\n",
    "\n",
    "import fortecubeview\n",
    "fortecubeview.plot(path='./ch2',sumlevel=0.9)"
   ]
  },
  {
   "cell_type": "code",
   "execution_count": null,
   "metadata": {},
   "outputs": [],
   "source": []
  }
 ],
 "metadata": {
  "kernelspec": {
   "display_name": "Python 3",
   "language": "python",
   "name": "python3"
  },
  "language_info": {
   "codemirror_mode": {
    "name": "ipython",
    "version": 3
   },
   "file_extension": ".py",
   "mimetype": "text/x-python",
   "name": "python",
   "nbconvert_exporter": "python",
   "pygments_lexer": "ipython3",
   "version": "3.9.4"
  }
 },
 "nbformat": 4,
 "nbformat_minor": 4
}
