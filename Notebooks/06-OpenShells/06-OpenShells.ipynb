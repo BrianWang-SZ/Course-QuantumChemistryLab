{
 "cells": [
  {
   "cell_type": "markdown",
   "metadata": {},
   "source": [
    "# Tutorial 07: Open shells\n",
    "\n",
    "In this tutorial you will learn:\n",
    "- Examing the difference between restricted and unrestricted computations\n",
    "- Learn how  psi4 handles open-shell species"
   ]
  },
  {
   "cell_type": "code",
   "execution_count": null,
   "metadata": {},
   "outputs": [],
   "source": [
    "import psi4"
   ]
  },
  {
   "cell_type": "markdown",
   "metadata": {},
   "source": [
    "When doing Hartree–Fock or DFT computations on closed-shell species (even number of electrons, all paired) **psi4 automatically selectes a restricted formalism**. This means that the spatial part of alpha and beta orbitals is the same\n",
    "$$\n",
    "\\phi_{i\\alpha}(\\mathbf{r}) = \\phi_{i\\beta}(\\mathbf{r})\n",
    "$$\n",
    "and the orbital energies are the same\n",
    "$$\n",
    "\\epsilon_{i\\alpha} = \\epsilon_{i\\beta}\n",
    "$$\n",
    "\n",
    "Let's look how this restriction is reflected in a simple example:"
   ]
  },
  {
   "cell_type": "code",
   "execution_count": null,
   "metadata": {},
   "outputs": [],
   "source": [
    "psi4.geometry(f\"\"\"\n",
    "H\n",
    "F 1 1.0\n",
    "symmetry c1\n",
    "\"\"\")\n",
    "\n",
    "e, wfn = psi4.energy('SCF/def2-SVP',return_wfn=True)"
   ]
  },
  {
   "cell_type": "markdown",
   "metadata": {},
   "source": [
    "For closed-shell specied, a restricted formalism give the identical alpha and beta orbital energies"
   ]
  },
  {
   "cell_type": "code",
   "execution_count": null,
   "metadata": {},
   "outputs": [],
   "source": [
    "print('epsilon_a = ',wfn.epsilon_a().to_array()) # alpha orbital energies\n",
    "print('epsilon_a = ',wfn.epsilon_b().to_array()) # beta orbital energies\n",
    "print('epsilon_a - epsilon_b = ',wfn.epsilon_a().to_array() - wfn.epsilon_b().to_array()) # alpha-beta orbital energy difference"
   ]
  },
  {
   "cell_type": "markdown",
   "metadata": {},
   "source": [
    "Recall that the molecular orbitals are a linear combination of the atomic orbital basis ($\\chi_\\mu$) times a coefficient matrix ($C_{\\mu i}$).\n",
    "Here we write both the alpha and beta components explicitly\n",
    "$$\n",
    "\\phi_{i\\alpha}(\\mathbf{r}) = \\sum_\\mu^{\\mathrm{basis}} \\chi_\\mu(\\mathbf{r}) C_{\\mu i}^{\\alpha}\n",
    "$$\n",
    "$$\n",
    "\\phi_{i\\beta}(\\mathbf{r}) = \\sum_\\mu^{\\mathrm{basis}} \\chi_\\mu(\\mathbf{r}) C_{\\mu i}^{\\beta}\n",
    "$$\n",
    "\n",
    "For a closed-shell molecule, we can easily verify that $C_{\\mu i}^{\\alpha}$ and $C_{\\mu i}^{\\beta}$ are identical since their difference is a matrix of zeros:"
   ]
  },
  {
   "cell_type": "code",
   "execution_count": null,
   "metadata": {},
   "outputs": [],
   "source": [
    "print(wfn.Ca().to_array() - wfn.Cb().to_array()) # alpha orbital energies"
   ]
  },
  {
   "cell_type": "markdown",
   "metadata": {},
   "source": [
    "## Simple open shells\n",
    "\n",
    "Suppose that we are now interested in studying the H$_2^+$ molecule. This system has one unpaired electron, which implies that the spin of the H$_2^+$ molecule is nonzero.\n",
    "A single electron is characterized by two quantum numbers:\n",
    "- The total spin quantum number $s = 1/2$ (corresponding to the operator $\\hat{S}^2$), which tells us that the average total spin squared is \n",
    "$$\n",
    "S^2 = s(s+1) = \\frac{3}{4}\n",
    "$$\n",
    "- The z component of spin quantum number $m_s =$ for which we have two possible choices\n",
    "$$\n",
    "m_s = +\\frac{1}{2} \\equiv \\alpha \\text{   or   } -\\frac{1}{2}  \\equiv \\beta.\n",
    "$$\n",
    "The average value of the spin projected on the z axis is\n",
    "$$\n",
    "S_z = m_s\n",
    "$$\n",
    "\n",
    "Since there are two possible states for the spin of the electron, we say that this system has **multiplicity equal to 2**. Another way to compute the multiplicity is via the equation\n",
    "$$\n",
    "\\text{multiplicity } = 2s + 1\n",
    "$$\n",
    "Let's now try to compute the Hartree–Fock energy of H$_2^+$ with psi4"
   ]
  },
  {
   "cell_type": "markdown",
   "metadata": {},
   "source": [
    "## Restricted vs. unrestricted methods\n",
    "\n",
    "There are two ways to perform computations on open shell systems like H$_2^+$. In every computation we need to specify one.\n",
    "\n",
    "1. using a restricted formalism that enforces the condition\n",
    "$$\n",
    "\\phi_{i\\alpha}(\\mathbf{r}) = \\phi_{i\\beta}(\\mathbf{r})\n",
    "$$\n",
    "for all doubly occupied orbitals.\n",
    "1. using an unrestricted formalism in which we let alpha and beta orbitals have different spatial part\n",
    "$$\n",
    "\\phi_{i\\alpha}(\\mathbf{r}) \\neq \\phi_{i\\beta}(\\mathbf{r})\n",
    "$$\n",
    "for both doubly and singly occupied orbitals.\n",
    "\n",
    "\n",
    "Note that **for a single electron, these two approaches give the same energy**.\n",
    "\n",
    "To perform a restricted Hartree–Fock computation you neet to set the option `REFERENCE` to `ROHF`."
   ]
  },
  {
   "cell_type": "code",
   "execution_count": null,
   "metadata": {},
   "outputs": [],
   "source": [
    "psi4.geometry(\"\"\"\n",
    "1 2\n",
    "H\n",
    "H 1 1.0\n",
    "symmetry c1\n",
    "\"\"\")\n",
    "\n",
    "psi4.set_options({'REFERENCE' : 'ROHF'})\n",
    "\n",
    "\n",
    "e, wfn = psi4.energy('HF/def2-SVP',return_wfn=True)"
   ]
  },
  {
   "cell_type": "markdown",
   "metadata": {},
   "source": [
    "Now let us check the orbital energies. In the case of ROHF these might be defined differently by different programs because there is not a unique way to define them. Psi4 yields equal energies for the alpha and beta orbitals"
   ]
  },
  {
   "cell_type": "code",
   "execution_count": null,
   "metadata": {},
   "outputs": [],
   "source": [
    "print(wfn.epsilon_a().to_array()) # alpha orbital energies\n",
    "print(wfn.epsilon_b().to_array()) # beta orbital energies\n",
    "print(wfn.Ca().to_array() - wfn.Cb().to_array()) # alpha orbital energies"
   ]
  },
  {
   "cell_type": "markdown",
   "metadata": {},
   "source": [
    "An unrestricted HF computation can be done by setting the option `REFERENCE` to `UHF`."
   ]
  },
  {
   "cell_type": "code",
   "execution_count": null,
   "metadata": {},
   "outputs": [],
   "source": [
    "psi4.geometry(\"\"\"\n",
    "1 2\n",
    "H\n",
    "H 1 1.0\n",
    "symmetry c1\n",
    "\"\"\")\n",
    "\n",
    "psi4.set_options({'REFERENCE' : 'UHF'})\n",
    "\n",
    "e, wfn = psi4.energy('HF/def2-SVP',return_wfn=True)\n",
    "print(wfn.epsilon_a().to_array()) # alpha orbital energies\n",
    "print(wfn.epsilon_b().to_array()) # beta orbital energies\n",
    "print(wfn.Ca().to_array() - wfn.Cb().to_array()) # alpha orbital energies"
   ]
  },
  {
   "cell_type": "markdown",
   "metadata": {},
   "source": [
    "Note that the energies of the alpha and beta electrons are different. In the unrestricted case the alpha and beta orbitals are different and we can see this if we plot them."
   ]
  },
  {
   "cell_type": "markdown",
   "metadata": {},
   "source": [
    "The following example shows the difference in the UHF orbitals of LiH+"
   ]
  },
  {
   "cell_type": "code",
   "execution_count": null,
   "metadata": {},
   "outputs": [],
   "source": [
    "psi4.geometry(\"\"\"\n",
    "1 2\n",
    "Li\n",
    "H 1 1.0\n",
    "symmetry c1\n",
    "\"\"\")\n",
    "\n",
    "psi4.set_options({'REFERENCE' : 'UHF'})\n",
    "e, wfn = psi4.energy('HF/def2-SVP',return_wfn=True)\n",
    "\n",
    "psi4.cubeprop(wfn)\n",
    "\n",
    "import fortecubeview\n",
    "fortecubeview.plot()"
   ]
  },
  {
   "cell_type": "markdown",
   "metadata": {},
   "source": [
    "Note that **in UHF the orbitals may be different but this is not always the case**. For example, if you apply UHF to a closed shell system then often you recover the RHF solution. For example"
   ]
  },
  {
   "cell_type": "code",
   "execution_count": null,
   "metadata": {},
   "outputs": [],
   "source": [
    "psi4.geometry(\"\"\"\n",
    "0 1\n",
    "H\n",
    "F 1 1.0\n",
    "symmetry c1\n",
    "\"\"\")\n",
    "\n",
    "psi4.set_options({'REFERENCE' : 'UHF'})\n",
    "e_uhf = psi4.energy('HF/def2-SVP')\n",
    "\n",
    "psi4.set_options({'REFERENCE' : 'RHF'})\n",
    "e_rhf = psi4.energy('HF/def2-SVP')\n",
    "\n",
    "print(f'The difference between the RHF and UHF energy is {e_rhf - e_uhf}')"
   ]
  },
  {
   "cell_type": "markdown",
   "metadata": {},
   "source": [
    "## General case\n",
    "\n",
    "When we have more than one electron, we use capital letters to refer to the sum of the angular momentum of all electrons. The quantum number $M_S$ is the sum of the z component of spin for all the electrons, which is given by the difference between the number of alpha and beta electrons divided by 2\n",
    "$$\n",
    "M_S = \\frac{1}{2} (N_\\alpha - N_\\beta)\n",
    "$$\n",
    "\n",
    "An important result in the theory of angular momentum is that a system with total spin equal to $S$ has multiplicity = $2S + 1$, which means that there are $2S + 1$ states with the same total spin. These states have z-projection of spin that ranges from $-S$ to $S$ in increments of 1\n",
    "$$\n",
    "-S, -S + 1, -S + 2, \\ldots, S - 2, S-1, S\n",
    "$$\n",
    "\n",
    "Now consider the case of HF$^+$. This molecule has 5 alpha and 4 beta electrons (or the other way around).\n",
    "For HF$^+$ has $M_S = 1/2$ which comes from the 5 alpha and 4 beta electrons ((5 - 4)/2).\n",
    "\n",
    "For HF$^+$ this means that the state with one unpaired alpha electron corresponds to $S = 1/2$. If it was otherwise things would not work out. For example, if $S = 1$ then we should find state with \n",
    "$$\n",
    "M_S = -1, 0, +1\n",
    "$$\n",
    "but we know that with one unpaired electron we need to have a state with $M_S = 1/2$.\n",
    "If we postulated that $S = 3/2$ then we should be able to find states with\n",
    "$$\n",
    "M_S = -3/2, -1/2, 1/2 , 3/2\n",
    "$$\n",
    "However, with only one unpaired electron we cannot have a state with $M_S = 3/2$.\n",
    "\n",
    "To summarize, the HF$^+$ molecule has multiplicity equal to $2S + 1 = 2 1/2 + 1 = 2$."
   ]
  },
  {
   "cell_type": "markdown",
   "metadata": {},
   "source": [
    "## Spin contamination of unrestricted wave functions\n",
    "\n",
    "ROHF and UHF generally yield different energies"
   ]
  },
  {
   "cell_type": "code",
   "execution_count": null,
   "metadata": {},
   "outputs": [],
   "source": [
    "psi4.geometry(\"\"\"\n",
    "1 2\n",
    "H\n",
    "F 1 1.0\n",
    "symmetry c1\n",
    "\"\"\")\n",
    "\n",
    "psi4.set_options({'REFERENCE' : 'ROHF'})\n",
    "e_rohf = psi4.energy('HF/def2-SVP')\n",
    "\n",
    "psi4.set_output_file('uhf.txt',False)\n",
    "\n",
    "psi4.set_options({'REFERENCE' : 'UHF'})\n",
    "e_uhf = psi4.energy('HF/def2-SVP')\n",
    "\n",
    "print(f'E(ROHF) = {e_rohf} Eh')\n",
    "print(f'E(UHF)  = {e_uhf}  Eh')\n",
    "print(f'The difference between the ROHF and UHF energy is {e_rohf - e_uhf}')"
   ]
  },
  {
   "cell_type": "markdown",
   "metadata": {},
   "source": [
    "Why is there an energy difference between the ROHF and UHF? And why is UHF the lower solution? Let's check the output"
   ]
  },
  {
   "cell_type": "code",
   "execution_count": null,
   "metadata": {},
   "outputs": [],
   "source": [
    "with open('uhf.txt') as f:\n",
    "    print(''.join(f.readlines()[130:]))"
   ]
  },
  {
   "cell_type": "markdown",
   "metadata": {},
   "source": [
    "## Spin density of methylene computed with DFT"
   ]
  },
  {
   "cell_type": "code",
   "execution_count": null,
   "metadata": {},
   "outputs": [],
   "source": [
    "import psi4 \n",
    "psi4.geometry(f\"\"\"\n",
    "0 3\n",
    "C\n",
    "H 1 1.0\n",
    "H 1 1.0 2 104.5\n",
    "symmetry c1\n",
    "\"\"\")\n",
    "\n",
    "psi4.set_options({'REFERENCE' : 'UKS'})\n",
    "e, wfn = psi4.optimize('B3LYP/def2-SVP',return_wfn=True)"
   ]
  },
  {
   "cell_type": "code",
   "execution_count": null,
   "metadata": {},
   "outputs": [],
   "source": [
    "!mkdir ch2\n",
    "psi4.set_options({'CUBEPROP_FILEPATH' : './ch2','CUBEPROP_TASKS' : ['DENSITY']})\n",
    "psi4.cubeprop(wfn)"
   ]
  },
  {
   "cell_type": "code",
   "execution_count": null,
   "metadata": {},
   "outputs": [],
   "source": [
    "!ls ch2\n",
    "# !rm ch2/Ps*\n",
    "\n",
    "import fortecubeview\n",
    "fortecubeview.plot(path='./ch2',sumlevel=0.9)"
   ]
  }
 ],
 "metadata": {
  "kernelspec": {
   "display_name": "Python 3",
   "language": "python",
   "name": "python3"
  },
  "language_info": {
   "codemirror_mode": {
    "name": "ipython",
    "version": 3
   },
   "file_extension": ".py",
   "mimetype": "text/x-python",
   "name": "python",
   "nbconvert_exporter": "python",
   "pygments_lexer": "ipython3",
   "version": "3.9.4"
  }
 },
 "nbformat": 4,
 "nbformat_minor": 4
}
